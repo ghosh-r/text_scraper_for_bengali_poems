{
 "metadata": {
  "language_info": {
   "codemirror_mode": {
    "name": "ipython",
    "version": 3
   },
   "file_extension": ".py",
   "mimetype": "text/x-python",
   "name": "python",
   "nbconvert_exporter": "python",
   "pygments_lexer": "ipython3",
   "version": "3.8.10"
  },
  "orig_nbformat": 4,
  "kernelspec": {
   "name": "python3",
   "display_name": "Python 3.8.10 64-bit"
  },
  "interpreter": {
   "hash": "31f2aee4e71d21fbe5cf8b01ff0e069b9275f58929596ceb00d14d90e3e16cd6"
  }
 },
 "nbformat": 4,
 "nbformat_minor": 2,
 "cells": [
  {
   "cell_type": "code",
   "execution_count": 1,
   "metadata": {},
   "outputs": [],
   "source": [
    "from bs4 import BeautifulSoup\n",
    "import requests"
   ]
  },
  {
   "cell_type": "code",
   "execution_count": 2,
   "metadata": {},
   "outputs": [],
   "source": [
    "html_text = requests.get('https://www.bangla-kobita.com/rabindranath/anak-hajar-busare/').text"
   ]
  },
  {
   "cell_type": "code",
   "execution_count": 3,
   "metadata": {},
   "outputs": [],
   "source": [
    "soup = BeautifulSoup(html_text, 'lxml')"
   ]
  },
  {
   "cell_type": "code",
   "execution_count": 4,
   "metadata": {},
   "outputs": [],
   "source": [
    "title = soup.find('h1').text\n",
    "author = soup.find('div', class_=\"author-name\").text\n",
    "poem_html_formatted = soup.find('div', class_=\"post-content noselect\")\n",
    "poem = poem_html_formatted.find_all('p')"
   ]
  },
  {
   "cell_type": "code",
   "execution_count": 15,
   "metadata": {},
   "outputs": [
    {
     "output_type": "stream",
     "name": "stdout",
     "text": [
      "\nঅনেক হাজার বছরের\n\n\nরবীন্দ্রনাথ ঠাকুর\n\n"
     ]
    }
   ],
   "source": [
    "print(title)\n",
    "print(author.replace('- ', ''))"
   ]
  },
  {
   "cell_type": "code",
   "execution_count": 17,
   "metadata": {},
   "outputs": [
    {
     "output_type": "stream",
     "name": "stdout",
     "text": [
      "অনেক হাজার বছরের\nমরু-যবনিকার আচ্ছাদন\nযখন উৎক্ষিপ্ত হল,\nদেখা দিল তারিখ-হারানো লোকালয়ের\nবিরাট কঙ্কাল;--\nইতিহাসের অলক্ষ্য অন্তরালে\nছিল তার জীবনক্ষেত্র।\nতার মুখরিত শতাব্দী\nআপনার সমস্ত কবিগান\nবাণীহীন অতলে দিয়েছে বিসর্জন।\nআর, যে-সব গান তখনো ছিল অঙ্কুরে, ছিল মুকুলে,\nযে বিপুল সম্ভাব্য\nসেদিন অনালোকে ছিল প্রচ্ছন্ন\nঅপ্রকাশ থেকে অপ্রকাশেই গেল মগ্ন হয়ে--\nযা ছিল অপ্রজ্বল ধোঁওয়ার গোপন আচ্ছাদনে\nতাও নিবল।\nযা বিকাল, আর যা বিকাল না,--\nদুই-ই সংসারের হাট থেকে গেল চলে\nএকই মূল্যের ছাপ নিয়ে।\nকোথাও রইল না তার ক্ষত,\nকোথাও বাজল না তার ক্ষতি।\nঐ নির্মল নিঃশব্দ আকাশে\nঅসংখ্য কল্প-কল্পান্তরের\nহয়েছে আবর্তন।\nনূতন নূতন বিশ্ব\nঅন্ধকারের নাড়ি ছিঁড়ে\nজন্ম নিয়েছে আলোকে,\nভেসে চলেছে আলোড়িত নক্ষত্রের ফেনপুঞ্জে;\nঅবশেষে যুগান্তে তারা তেমনি করেই গেছে\nযেমন গেছে বর্ষণশান্ত মেঘ,\nযেমন গেছে ক্ষণজীবী পতঙ্গ।\nমহাকাল, সন্ন্যাসী তুমি।\nতোমার অতলস্পর্শ ধ্যানের তরঙ্গ-শিখরে\nউচ্ছ্রিত হয়ে উঠছে সৃষ্টি\nআবার নেমে যাচ্ছে ধ্যানের তরঙ্গতলে।\nপ্রচণ্ড বেগে চলেছে ব্যক্ত অব্যক্তের চক্রনৃত্য,\nতারি নিস্তব্ধ কেন্দ্রস্থলে\nতুমি আছ অবিচলিত আনন্দে।\nহে নির্মম, দাও আমাকে তোমার ঐ সন্ন্যাসের দীক্ষা।\nজীবন আর মৃত্যু, পাওয়া আর হারানোর মাঝখানে\nযেখানে আছে অক্ষুব্ধ শান্তি\nসেই সৃষ্টি-হোমাগ্নিশিখার অন্তরতম\nস্তিমিত নিভৃতে\nদাও আমাকে আশ্রয়।\n"
     ]
    }
   ],
   "source": [
    "poem_str = ''\n",
    "\n",
    "for line in poem:\n",
    "    poem_str += (str(line).replace('<p>', '').replace('</p>', '').replace('<br/>', '\\n'))\n",
    "\n",
    "print(poem_str)"
   ]
  },
  {
   "cell_type": "code",
   "execution_count": 35,
   "metadata": {},
   "outputs": [],
   "source": [
    "%%bash\n",
    "touch tagore.txt"
   ]
  },
  {
   "cell_type": "code",
   "execution_count": 21,
   "metadata": {},
   "outputs": [],
   "source": [
    "with open('tagore.txt', 'a') as f:\n",
    "    f.write(title + '\\n\\n' + poem_str + '\\n\\n\\n\\n')"
   ]
  },
  {
   "cell_type": "code",
   "execution_count": 34,
   "metadata": {},
   "outputs": [],
   "source": [
    "def write_poem(url: str, txt_file: str) -> None:\n",
    "    \"\"\"\n",
    "    inputs::\n",
    "    url of poem -> str\n",
    "    path of text file -> str\n",
    "\n",
    "    outputs::\n",
    "    poem appended to text file\n",
    "\n",
    "    returns::\n",
    "    None -> None\n",
    "    \n",
    "    \"\"\"\n",
    "    html_text = requests.get(url).text\n",
    "    soup = BeautifulSoup(html_text, 'lxml')\n",
    "    title = soup.find('h1').text\n",
    "    author = soup.find('div', class_=\"author-name\").text\n",
    "    poem_html_formatted = soup.find('div', class_=\"post-content noselect\")\n",
    "    poem = poem_html_formatted.find_all('p')\n",
    "    poem_str = ''\n",
    "    for line in poem:\n",
    "        poem_str += (str(line).replace('<p>', '').replace('</p>', '').replace('<br/>', '\\n'))\n",
    "    with open(txt_file, 'a') as f:\n",
    "        f.write(title + '\\n\\n' + poem_str + '\\n\\n\\n\\n')\n",
    "    return\n"
   ]
  },
  {
   "cell_type": "code",
   "execution_count": 36,
   "metadata": {},
   "outputs": [],
   "source": [
    "write_poem(url='https://www.bangla-kobita.com/rabindranath/anak-hajar-busare/',\n",
    "           txt_file='tagore.txt')"
   ]
  },
  {
   "cell_type": "code",
   "execution_count": 22,
   "metadata": {},
   "outputs": [
    {
     "output_type": "execute_result",
     "data": {
      "text/plain": [
       "istElement\" itemscope itemtype=\"http://schema.org/CreativeWork\">\\n<meta itemprop=\"name headline\" content=\"অন্তর্যামী\" />\\n<meta itemprop=\"author\" content=\"রবীন্দ্রনাথ ঠাকুর\" />\\n<meta itemprop=\"datePublished\" content=\"2013-06-10T08:37:50Z\" />\\n<meta itemprop=\"genre\" content=\"Poem\" />\\n<meta itemprop=\"position\" content=\"38\" />\\n<meta itemprop=\"url\" content=\"https://www.bangla-kobita.com/rabindranath/ontorjami/\" />\\n</span>\\n<div class=\"row\">\\n<div class=\"col-sm-12\">\\n<a title=\"অন্তর্যামী\" href=\"/rabindranath/ontorjami/\">অন্তর্যামী</a>\\n</div>\\n</div>\\n</td>\\n<td class=\"text-right\">৩</td>\\n</tr>\\n<tr class=\"\">\\n<td class=\"hidden-xs\">\\n</td>\\n<td>\\n<span itemprop=\"itemListElement\" itemscope itemtype=\"http://schema.org/CreativeWork\">\\n<meta itemprop=\"name headline\" content=\"অন্ধকারের পার হতে আনি\" />\\n<meta itemprop=\"author\" content=\"রবীন্দ্রনাথ ঠাকুর\" />\\n<meta itemprop=\"datePublished\" content=\"2018-01-01T09:38:08Z\" />\\n<meta itemprop=\"genre\" content=\"Poem\" />\\n<meta itemprop=\"position\" content=\"39\" />\\n<meta itemprop=\"url\" content=\"https://www.bangla-kobita.com/rabindranath/ondhokarer-par-hote-ani/\" />\\n</span>\\n<div class=\"row\">\\n<div class=\"col-sm-12\">\\n<a title=\"অন্ধকারের পার হতে আনি\" href=\"/rabindranath/ondhokarer-par-hote-ani/\">অন্ধকারের পার হতে আনি</a>\\n</div>\\n</div>\\n</td>\\n<td class=\"text-right\">১</td>\\n</tr>\\n<tr class=\"\">\\n<td class=\"hidden-xs\">\\n</td>\\n<td>\\n<span itemprop=\"itemListElement\" itemscope itemtype=\"http://schema.org/CreativeWork\">\\n<meta itemprop=\"name headline\" content=\"অন্নের লাগি মাঠে\" />\\n<meta itemprop=\"author\" content=\"রবীন্দ্রনাথ ঠাকুর\" />\\n<meta itemprop=\"datePublished\" content=\"2018-01-01T09:38:30Z\" />\\n<meta itemprop=\"genre\" content=\"Poem\" />\\n<meta itemprop=\"position\" content=\"40\" />\\n<meta itemprop=\"url\" content=\"https://www.bangla-kobita.com/rabindranath/onner-lagi-mathe/\" />\\n</span>\\n<div class=\"row\">\\n<div class=\"col-sm-12\">\\n<a title=\"অন্নের লাগি মাঠে\" href=\"/rabindranath/onner-lagi-mathe/\">অন্নের লাগি মাঠে</a>\\n</div>\\n</div>\\n</td>\\n<td class=\"text-right\">০</td>\\n</tr>\\n<tr class=\"\">\\n<td class=\"hidden-xs\">\\n</td>\\n<td>\\n<span itemprop=\"itemListElement\" itemscope itemtype=\"http://schema.org/CreativeWork\">\\n<meta itemprop=\"name headline\" content=\"অন্য মা\" />\\n<meta itemprop=\"author\" content=\"রবীন্দ্রনাথ ঠাকুর\" />\\n<meta itemprop=\"datePublished\" content=\"2018-02-19T18:16:37Z\" />\\n<meta itemprop=\"genre\" content=\"Poem\" />\\n<meta itemprop=\"position\" content=\"41\" />\\n<meta itemprop=\"url\" content=\"https://www.bangla-kobita.com/rabindranath/onyo-ma/\" />\\n</span>\\n<div class=\"row\">\\n<div class=\"col-sm-12\">\\n<a title=\"অন্য মা\" href=\"/rabindranath/onyo-ma/\">অন্য মা</a>\\n</div>\\n</div>\\n</td>\\n<td class=\"text-right\">০</td>\\n</tr>\\n<tr class=\"\">\\n<td class=\"hidden-xs\">\\n<img src=\"/images/play-icon.png\" alt=\"আবৃত্তি\" />\\n</td>\\n<td>\\n<span itemprop=\"itemListElement\" itemscope itemtype=\"http://schema.org/CreativeWork\">\\n<meta itemprop=\"name headline\" content=\"অপমান-বর\" />\\n<meta itemprop=\"author\" content=\"রবীন্দ্রনাথ ঠাকুর\" />\\n<meta itemprop=\"datePublished\" content=\"2013-06-10T08:45:37Z\" />\\n<meta itemprop=\"genre\" content=\"Poem\" />\\n<meta itemprop=\"position\" content=\"42\" />\\n<meta itemprop=\"url\" content=\"https://www.bangla-kobita.com/rabindranath/opoman-bor/\" />\\n</span>\\n<div class=\"row\">\\n<div class=\"col-sm-12\">\\n<a title=\"অপমান-বর\" href=\"/rabindranath/opoman-bor/\">অপমান-বর</a>\\n</div>\\n</div>\\n</td>\\n<td class=\"text-right\">১</td>\\n</tr>\\n<tr class=\"\">\\n<td class=\"hidden-xs\">\\n</td>\\n<td>\\n<span itemprop=\"itemListElement\" itemscope itemtype=\"http://schema.org/CreativeWork\">\\n<meta itemprop=\"name headline\" content=\"অপযশ\" />\\n<meta itemprop=\"author\" content=\"রবীন্দ্রনাথ ঠাকুর\" />\\n<meta itemprop=\"datePublished\" content=\"2018-01-24T07:04:25Z\" />\\n<meta itemprop=\"genre\" content=\"Poem\" />\\n<meta itemprop=\"position\" content=\"43\" />\\n<meta itemprop=\"url\" content=\"https://www.bangla-kobita.com/rabindranath/opojosh/\" />\\n</span>\\n<div class=\"row\">\\n<div class=\"col-sm-12\">\\n<a title=\"অপযশ\" href=\"/rabindranath/opojosh/\">অপযশ</a>\\n</div>\\n</div>\\n</td>\\n<td class=\"text-right\">১</td>\\n</tr>\\n<tr class=\"\">\\n<td class=\"hidden-xs\">\\n</td>\\n<td>\\n<span itemprop=\"itemListElement\" itemscope itemtype=\"http://schema.org/CreativeWork\">\\n<meta itemprop=\"name headline\" content=\"অপরাজিতা ফুটিল\" />\\n<meta itemprop=\"author\" content=\"রবীন্দ্রনাথ ঠাকুর\" />\\n<meta itemprop=\"datePublished\" content=\"2018-01-01T09:38:54Z\" />\\n<meta itemprop=\"genre\" content=\"Poem\" />\\n<meta itemprop=\"position\" content=\"44\" />\\n<meta itemprop=\"url\" content=\"https://www.bangla-kobita.com/rabindranath/oporajita-futil/\" />\\n</span>\\n<div class=\"row\">\\n<div class=\"col-sm-12\">\\n<a title=\"অপরাজিতা ফুটিল\" href=\"/rabindranath/oporajita-futil/\">অপরাজিতা ফুটিল</a>\\n</div>\\n</div>\\n</td>\\n<td class=\"text-right\">১</td>\\n</tr>\\n<tr class=\"\">\\n<td class=\"hidden-xs\">\\n</td>\\n<td>\\n<span itemprop=\"itemListElement\" itemscope itemtype=\"http://schema.org/CreativeWork\">\\n<meta itemprop=\"name headline\" content=\"অপরাহ্নে এসেছিল জন্মবাসরের আমন্ত্রণে\" />\\n<meta itemprop=\"author\" content=\"রবীন্দ্রনাথ ঠাকুর\" /> \\n<meta itemprop=\"datePublished\" content=\"2015-03-07T12:07:26Z\" />\\n<meta itemprop=\"genre\" content=\"Poem\" />\\n<meta itemprop=\"position\" content=\"45\" />\\n<meta itemprop=\"url\" content=\"https://www.bangla-kobita.com/rabindranath/yaprrane-ashechlu-jamobasher-amantna/\" />\\n</span>\\n<div class=\"row\">\\n<div class=\"col-sm-12\">\\n<a title=\"অপরাহ্নে এসেছিল জন্মবাসরের আমন্ত্রণে\" href=\"/rabindranath/yaprrane-ashechlu-jamobasher-amantna/\">অপরাহ্নে এসেছিল জন্মবাসরের আমন্ত্রণে</a>\\n</div>\\n</div>\\n</td>\\n<td class=\"text-right\">০</td>\\n</tr>\\n<tr class=\"\">\\n<td class=\"hidden-xs\">\\n</td>\\n<td>\\n<span itemprop=\"itemListElement\" itemscope itemtype=\"http://schema.org/CreativeWork\">\\n<meta itemprop=\"name headline\" content=\"অপরিবর্তনীয়\" />\\n<meta itemprop=\"author\" content=\"রবীন্দ্রনাথ ঠাকুর\" />\\n<meta itemprop=\"datePublished\" content=\"2018-02-09T08:35:30Z\" />\\n<meta itemprop=\"genre\" content=\"Poem\" />\\n<meta itemprop=\"position\" content=\"46\" />\\n<meta itemprop=\"url\" content=\"https://www.bangla-kobita.com/rabindranath/oporibortonio/\" />\\n</span>\\n<div class=\"row\">\\n<div class=\"col-sm-12\">\\n<a title=\"অপরিবর্তনীয়\" href=\"/rabindranath/oporibortonio/\">অপরিবর্তনীয়</a>\\n</div>\\n</div>\\n</td>\\n<td class=\"text-right\">০</td>\\n</tr>\\n<tr class=\"\">\\n<td class=\"hidden-xs\">\\n</td>\\n<td>\\n<span itemprop=\"itemListElement\" itemscope itemtype=\"http://schema.org/CreativeWork\">\\n<meta itemprop=\"name headline\" content=\"অপরিহরণীয়\" />\\n<meta itemprop=\"author\" content=\"রবীন্দ্রনাথ ঠাকুর\" />\\n<meta itemprop=\"datePublished\" content=\"2018-02-09T17:01:40Z\" />\\n<meta itemprop=\"genre\" content=\"Poem\" />\\n<meta itemprop=\"position\" content=\"47\" />\\n<meta itemprop=\"url\" content=\"https://www.bangla-kobita.com/rabindranath/oporihorniyo/\" />\\n</span>\\n<div class=\"row\">\\n<div class=\"col-sm-12\">\\n<a title=\"অপরিহরণীয়\" href=\"/rabindranath/oporihorniyo/\">অপরিহরণীয়</a>\\n</div>\\n</div>\\n</td>\\n<td class=\"text-right\">১</td>\\n</tr>\\n<tr class=\"\">\\n<td class=\"hidden-xs\">\\n</td>\\n<td>\\n<span itemprop=\"itemListElement\" itemscope itemtype=\"http://schema.org/CreativeWork\">\\n<meta itemprop=\"name headline\" content=\"অবরুদ্ধ ছিল বায়ু\" />\\n<meta itemprop=\"author\" content=\"রবীন্দ্রনাথ ঠাকুর\" />\\n<meta itemprop=\"datePublished\" content=\"2018-01-21T21:06:02Z\" />\\n<meta itemprop=\"genre\" content=\"Poem\" />\\n<meta itemprop=\"position\" content=\"48\" />\\n<meta itemprop=\"url\" content=\"https://www.bangla-kobita.com/rabindranath/oboruddho-chilo-bayu/\" />\\n</span>\\n<div class=\"row\">\\n<div class=\"col-sm-12\">\\n<a title=\"অবরুদ্ধ ছিল বায়ু\" href=\"/rabindranath/oboruddho-chilo-bayu/\">অবরুদ্ধ ছিল বায়ু</a>\\n</div>\\n</div>\\n</td>\\n<td class=\"text-right\">০</td>\\n</tr>\\n<tr class=\"\">\\n<td class=\"hidden-xs\">\\n</td>\\n<td>\\n<span itemprop=\"itemListElement\" itemscope itemtype=\"http://schema.org/CreativeWork\">\\n<meta itemprop=\"name headline\" content=\"অবর্জিত\" />\\n<meta itemprop=\"author\" content=\"রবীন্দ্রনাথ ঠাকুর\" />\\n<meta itemprop=\"datePublished\" content=\"2015-03-08T23:29:40Z\" />\\n<meta itemprop=\"genre\" content=\"Poem\" />\\n<meta itemprop=\"position\" content=\"49\" />\\n<meta itemprop=\"url\" content=\"https://www.bangla-kobita.com/rabindranath/yubjetay/\" />\\n</span>\\n<div class=\"row\">\\n<div class=\"col-sm-12\">\\n<a title=\"অবর্জিত\" href=\"/rabindranath/yubjetay/\">অবর্জিত</a>\\n</div>\\n</div>\\n</td>\\n<td class=\"text-right\">০</td>\\n</tr>\\n<tr class=\"\">\\n<td class=\"hidden-xs\">\\n</td>\\n<td>\\n<span itemprop=\"itemListElement\" itemscope itemtype=\"http://schema.org/CreativeWork\">\\n<meta itemprop=\"name headline\" content=\"অবসান\" />\\n<meta itemprop=\"author\" content=\"রবীন্দ্রনাথ ঠাকুর\" />\\n<meta itemprop=\"datePublished\" content=\"2015-03-08T13:01:57Z\" />\\n<meta itemprop=\"genre\" content=\"Poem\" />\\n<meta itemprop=\"position\" content=\"50\" />\\n<meta itemprop=\"url\" content=\"https://www.bangla-kobita.com/rabindranath/yabusan/\" />\\n</span>\\n<div class=\"row\">\\n<div class=\"col-sm-12\">\\n<a title=\"অবসান\" href=\"/rabindranath/yabusan/\">অবসান</a>\\n</div>\\n</div>\\n</td>\\n<td class=\"text-right\">২</td>\\n</tr>\\n</table>\\n<div class=\"clearfix\">\\n<div class=\"pagination-container\"><ul class=\"pagination\"><li class=\"active\"><a>১</a></li><li><a href=\"/rabindranath/?t=p&amp;pp=2\">২</a></li><li><a href=\"/rabindranath/?t=p&amp;pp=3\">৩</a></li><li><a href=\"/rabindranath/?t=p&amp;pp=4\">৪</a></li><li><a href=\"/rabindranath/?t=p&amp;pp=5\">৫</a></li><li><a href=\"/rabindranath/?t=p&amp;pp=6\">৬</a></li><li><a href=\"/rabindranath/?t=p&amp;pp=7\">৭</a></li><li><a href=\"/rabindranath/?t=p&amp;pp=8\">৮</a></li><li><a href=\"/rabindranath/?t=p&amp;pp=9\">৯</a></li><li><a href=\"/rabindranath/?t=p&amp;pp=10\">১০</a></li><li class=\"disabled PagedList-ellipses\"><a>&#8230;</a></li><li class=\"PagedList-skipToNext\"><a href=\"/rabindranath/?t=p&amp;pp=2\" rel=\"next\">»</a></li><li class=\"PagedList-skipToLast\"><a href=\"/rabindranath/?t=p&amp;pp=29\">»»</a></li></ul></div>\\n</div>\\n<br />\\n</div>\\n<div role=\"tabpanel\" class=\"tab-pane \" id=\"abritti\">\\n<p class=\"display-block\">\\nএখানে রবীন্দ্রনাথ ঠাকুর-এর ১টি আবৃত্তি পাবেন।\\n</p>\\n<p class=\"display-none\">\\nThere\\'s 1 recitation(s) of রবীন্দ্রনাথ ঠাকুর listed bellow.\\n</p>\\n<div class=\"clearfix\"></div>\\n<div class=\"list-options\">\\n<div class=\"clearfix\"></div>\\n</div>\\n<table class=\"post-list table table-striped table-responsive table-condensed\">\\n<tr>\\n<th class=\"post-title\">\\n<div class=\"row\">\\n<div class=\"col-sm-12\">\\nশিরোনাম\\n</div>\\n</div>\\n</th>\\n<th class=\"text-right\">মন্তব্য</th>\\n</tr>\\n<tr class=\"\">\\n<td>\\n<div class=\"row\">\\n<div class=\"col-sm-12\">\\n<a title=\"বীরপুরুষ\" href=\"/rabindranath/birpurush/\">বীরপুরুষ</a>\\n</div>\\n</div>\\n</td>\\n<td class=\"text-right\">২৭</td>\\n</tr>\\n</table>\\n</div>\\n<div role=\"tabpanel\" class=\"tab-pane \" id=\"book\">\\n<p class=\"display-block text-left\">\\nএখানে রবীন্দ্রনাথ ঠাকুর-এর ১টি কবিতার বই পাবেন।\\n</p>\\n<p class=\"display-none text-left\">\\nThere\\'s 1 poetry book(s) of রবীন্দ্রনাথ ঠাকুর listed bellow.\\n</p>\\n<div class=\"clearfix\"></div>\\n<div class=\"list-options\">\\n<div class=\"clearfix\"></div>\\n</div>\\n<table class=\"book-list table table-striped table-responsive\">\\n<tr class=\"\">\\n<td class=\"cover\">\\n<a title=\"সঞ্চয়িতা\" href=\"/rabindranath/books/sanchayita/\">\\n<img src=\"/images/book/0/b143.jpg\" class=\"thumbnail\" title=\"সঞ্চয়িতা\" alt=\"সঞ্চয়িতা\" />\\n</a>\\n</td>\\n<td>\\n<b><a title=\"সঞ্চয়িতা\" href=\"/rabindranath/books/sanchayita/\">সঞ্চয়িতা</a></b> <br /><br />\\n<b>প্রকাশনী:</b> মৌ প্রকাশনী </td>\\n</tr>\\n</table>\\n<br />\\n</div>\\n</div>\\n</div>\\n</div>\\n<div class=\"ad-wide\">\\n<ins class=\"adsbygoogle\" style=\"display:block\" data-ad-client=\"ca-pub-9365325991113290\" data-ad-slot=\"2008035413\" data-ad-format=\"horizontal\"></ins>\\n<script>\\r\\n    (adsbygoogle = window.adsbygoogle || []).push({});\\r\\n</script>\\n</div>\\n</div>\\n<div class=\"col-md-4\">\\n<div id=\"shareButtons\" name=\"shareButtons\">\\n<div class=\"addthis\">\\n<div class=\"addthis_inline_share_toolbox addthis-content\"></div>\\n<div class=\"addthis-caption\">শেয়ার করুন: &nbsp;</div>\\n</div>\\n</div>\\n<div class=\"row\">\\n<div class=\"col-md-12\">\\n<div class=\"mid-col\">\\n<div class=\"search-box\">\\n<h4>সার্চ করুন</h4>\\n<div class=\"h-bar\"></div>\\n<form action=\"/search/\" method=\"post\">\\n<script type=\"text/javascript\">\\r\\n\\r\\n    var SearchBoxbKeyboard = new banglaKeyboard();\\r\\n\\r\\n\\r\\n    function SearchBoxKeyboardLayoutOptionClick() {\\r\\n        var field = document.getElementsByName(\\'SearchBoxKeyboardSelector\\');\\r\\n\\r\\n        for (var counter = 0; counter < field.length; counter++) {\\r\\n            if (field[counter].checked) {\\r\\n                EnglishKeyboard = false;\\r\\n                SearchBoxbKeyboard.KeyBoardLayout = counter + 1;\\r\\n\\r\\n                bnwSetCookie(\"bk.KeyboardLayout\", field[counter].value, 90, \"/\");\\r\\n\\r\\n                try\\r\\n                {\\r\\n                    var myFld = document.getElementById(\"q\");\\r\\n                    myFld.focus();\\r\\n                }\\r\\n                catch (err)\\r\\n                {\\r\\n\\r\\n                }\\r\\n               break;\\r\\n            }\\r\\n        }\\r\\n    } \\r\\n\\r\\n    function SearchBoxOnPageLoad()\\r\\n    {\\r\\n        SearchBoxbKeyboard.KeyBoardLayout = 2;\\r\\n    }\\r\\n\\r\\n\\r\\n    SearchBoxOnPageLoad();\\r\\n\\r\\n</script>\\n<span class=\"bangla-editor\">\\n<input id=\"SearchBoxrdKeyboard1\" onclick=\"SearchBoxKeyboardLayoutOptionClick()\" name=\"SearchBoxKeyboardSelector\" value=\"1\" type=\"radio\" /> <label for=\"SearchBoxrdKeyboard1\">ইংরেজি</label>\\n&nbsp; <input id=\"SearchBoxrdKeyboard2\" onclick=\"SearchBoxKeyboardLayoutOptionClick()\" name=\"SearchBoxKeyboardSelector\" value=\"2\" type=\"radio\" Checked=\"Checked\" /> <label for=\"SearchBoxrdKeyboard2\">অভ্র</label>\\n&nbsp; <input id=\"SearchBoxrdKeyboard3\" onclick=\"SearchBoxKeyboardLayoutOptionClick()\" name=\"SearchBoxKeyboardSelector\" value=\"3\" type=\"radio\" /> <label for=\"SearchBoxrdKeyboard3\">ইউনিজয়</label>\\n</span>\\n<input id=\"q\" onkeydown=\"return SearchBoxbKeyboard.KeyBoardDown(event);\" onkeypress=\"return SearchBoxbKeyboard.KeyBoardPress(event);\" name=\"q\" value=\"কবি বা কবিতার নামের অংশবিশেষ\" onfocus=\"if(this.value==\\'কবি বা কবিতার নামের অংশবিশেষ\\'){this.value=\\'\\';this.style.color = \\'#000\\';}\" onblur=\"if(this.value==\\'\\'){this.value=\\'কবি বা কবিতার নামের অংশবিশেষ\\';this.style.color=\\'#999\\';}\" type=\"text\" class=\"form-control\" />\\n<input id=\"s\" name=\"s\" class=\"btn btn-primary\" type=\"submit\" onclick=\"return validateInput()\" value=\"সার্চ!\" />\\n</form>\\n<div class=\"clearfix\"></div>\\n<p class=\"display-block\">\\nকবি কিংবা কবিতা খুঁজে বের করার জন্য উপরের সার্চ বক্সটি ব্যবহার করুন।\\n</p>\\n<p class=\"display-none\">\\nPlease use the above search box to find any poet or poems listed with us.\\n</p>\\n</div>\\n<script type=\"text/javascript\">\\r\\n    function validateInput() {\\r\\n        {\\r\\n            var q = document.getElementById(\"q\").value;\\r\\n\\r\\n            if (q.length == 0 || q == \"কবি বা কবিতার নামের অংশবিশেষ\") {\\r\\n                alert(\"কবি বা কবিতার নামের অংশবিশেষ দিয়ে সার্চ করুন।\");\\r\\n                return false;\\r\\n            }\\r\\n            else if (q.length < 3) {\\r\\n                alert(\"দয়া করে অর্থবোধক শব্দ দিয়ে সার্চ করুন।\");\\r\\n                return false;\\r\\n            }\\r\\n\\r\\n            document.location = \"/search/?q=\" + q;\\r\\n            return false;\\r\\n        }\\r\\n    }\\r\\n</script>\\n<div class=\"panel-box\">\\n<div class=\"ad-box\">\\n<ins class=\"adsbygoogle\" style=\"display:block\" data-ad-client=\"ca-pub-9365325991113290\" data-ad-slot=\"2389688108\" data-ad-format=\"rectangle,horizontal\"></ins>\\n<script>\\r\\n(adsbygoogle = window.adsbygoogle || []).push({});\\r\\n</script>\\n</div>\\n</div>\\n<div id=\"panelMenu\" name=\"panelMenu\">\\n</div>\\n<div class=\"partialContent\" data-url=\"/comment/panellistbyuser/4/15/\"></div>\\n<div class=\"panel-box\">\\n<div class=\"ad-tower\">\\n<ins class=\"adsbygoogle\" style=\"display:block\" data-ad-client=\"ca-pub-9365325991113290\" data-ad-slot=\"3650798884\" data-ad-format=\"vertical,horizontal,rectangle\"></ins>\\n<script>\\r\\n(adsbygoogle = window.adsbygoogle || []).push({});\\r\\n</script>\\n</div>\\n</div>\\n</div>\\n</div>\\n</div>\\n</div>\\n</div>\\n<footer>\\n<div class=\"row\">\\n<div class=\"col-md-7\">\\n<ul class=\"footer-menu\">\\n<li><a title=\"Contact us\" href=\"/contact/\">যোগাযোগ করুন</a></li>\\n<li><a title=\"Rules\" href=\"/info/rules/\">নিয়মাবলী</a></li>\\n<li><a title=\"Frequently Asked Questions\" href=\"/faq/\">তথ্যকেন্দ্র</a></li>\\n<li><a title=\"Notices\" href=\"/notice/\">বিজ্ঞপ্তি</a></li>\\n<li><a title=\"DMCA Complaint\" href=\"/dmca/\">কপিরাইট অভিযোগ</a></li>\\n</ul>\\n</div>\\n<div class=\"col-md-5 copyright\">\\n<span class=\"display-block\">\\n<span class=\"text-nowrap\">কপিরাইট &copy; ২০০৯ - ২০২১</span> <span class=\"text-nowrap\">www.bangla-kobita.com</span>\\n</span>\\n<span class=\"display-none\">\\n<span class=\"text-nowrap\">Copyright &copy; 2009 - 2021</span> <span class=\"text-nowrap\">www.bangla-kobita.com</span>\\n</span>\\n</div>\\n</div>\\n</footer>\\n</div>\\n<a title=\"Go back to top\" id=\"back-to-top\" href=\"#\" class=\"btn btn-primary btn-lg back-to-top\" role=\"button\"><span class=\"icon icon-chevron-up\"></span></a>\\n<script type=\"text/javascript\">\\r\\n            //Disable right-click on the page, except input or textarea\\r\\n            document.onmousedown = disableclick;\\r\\n            document.oncontextmenu = disablecontextmenu;\\r\\n\\r\\n            function disableclick(event) {\\r\\n                var srcName = event.target.tagName.toLowerCase();\\r\\n                if (event.button == 2) //Right click\\r\\n                {\\r\\n                    if (!(srcName == \"input\" || srcName == \"textarea\"))\\r\\n                        return false;\\r\\n                }\\r\\n            }\\r\\n\\r\\n            function disablecontextmenu(event) {\\r\\n                var srcName = event.target.tagName.toLowerCase();\\r\\n                if (!(srcName == \"input\" || srcName == \"textarea\"))\\r\\n                    return false;\\r\\n            }\\r\\n        </script>\\n<script src=\"/bundles/scripts?v=DLj2MetoSsXHK2i7f8nAm93GZ3HoaKbxyMyw0xbGVp01\"></script>\\n<script type=\"text/javascript\" src=\"//s7.addthis.com/js/300/addthis_widget.js#pubid=ra-4e4d18801a7b9371\"></script>\\n<script type=\"text/javascript\">\\r\\n                function searchspInList() {\\r\\n                    var qp = document.getElementById(\"searchQsp\").value;\\r\\n\\r\\n                    if (qp.length == 0 || qp == \"নির্দিষ্ট কবিতা খুঁজছেন?\") {\\r\\n                        alert(\"কবিতার নাম দিয়ে সার্চ করুন।\");\\r\\n                        return false;\\r\\n                    }\\r\\n                    else if (qp.length < 3) {\\r\\n                        alert(\"অর্থবহ নাম দিয়ে সার্চ করুন।\");\\r\\n                        return false;\\r\\n                    }\\r\\n\\r\\n                    document.location = \\'/rabindranath/?t=p&qp=\\' + qp;\\r\\n                    return false;\\r\\n                }\\r\\n            </script>\\n<script type=\"text/javascript\">\\r\\n                function navigateURLsp() {\\r\\n\\r\\n                    var sortOptionssp = document.getElementById(\"sortOptionssp\");\\r\\n                    var selectedOptionsp = sortOptionssp.options[sortOptionssp.selectedIndex].value;\\r\\n                    var spURL = \"\";\\r\\n                    if (selectedOptionsp == \"n\") {\\r\\n                        spURL = \"/rabindranath/?t=p\";\\r\\n                    } else if (selectedOptionsp == \"d\") {\\r\\n                        spURL = \"/rabindranath/?t=p&s=d\";\\r\\n                    }\\r\\n                    window.location.href = spURL;\\r\\n                }\\r\\n            </script>\\n<script async src=\"//pagead2.googlesyndication.com/pagead/js/adsbygoogle.js\"></script>\\n<script>\\r\\n            (adsbygoogle = window.adsbygoogle || []).push({\\r\\n                google_ad_client: \"ca-pub-9365325991113290\",\\r\\n                enable_page_level_ads: true\\r\\n            });\\r\\n        </script>\\n<script async src=\"https://www.googletagmanager.com/gtag/js?id=UA-9964141-2\"></script>\\n<script>\\r\\n        window.dataLayer = window.dataLayer || [];\\r\\n        function gtag() { dataLayer.push(arguments); }\\r\\n        gtag(\\'js\\', new Date());\\r\\n\\r\\n        gtag(\\'config\\', \\'UA-9964141-2\\');\\r\\n    </script>\\n</body>\\n</html>\\n'"
      ]
     },
     "metadata": {},
     "execution_count": 22
    }
   ],
   "source": [
    "html_text = requests.get('https://www.bangla-kobita.com/rabindranath/').text\n",
    "html_text"
   ]
  },
  {
   "cell_type": "code",
   "execution_count": 23,
   "metadata": {},
   "outputs": [],
   "source": [
    "soup = BeautifulSoup(html_text, 'lxml')"
   ]
  },
  {
   "cell_type": "code",
   "execution_count": 70,
   "metadata": {},
   "outputs": [],
   "source": [
    "from typing import List"
   ]
  },
  {
   "cell_type": "code",
   "execution_count": 67,
   "metadata": {
    "tags": []
   },
   "outputs": [
    {
     "output_type": "stream",
     "name": "stdout",
     "text": [
      "https://www.bangla-kobita.com/rabindranath/1400-shaal/\nhttps://www.bangla-kobita.com/rabindranath/akormar-bibhrat/\nhttps://www.bangla-kobita.com/rabindranath/okritoggo/\nhttps://www.bangla-kobita.com/rabindranath/okkhomota/\nhttps://www.bangla-kobita.com/rabindranath/okkhoma/\nhttps://www.bangla-kobita.com/rabindranath/onger-badhone-badhapora-amar-pran/\nhttps://www.bangla-kobita.com/rabindranath/ochol-smriti/\nhttps://www.bangla-kobita.com/rabindranath/ochola-buri/\nhttps://www.bangla-kobita.com/rabindranath/ochir-bosonto-hai-elo-gelo-chole/\nhttps://www.bangla-kobita.com/rabindranath/ocheton-mahatmyo/\nhttps://www.bangla-kobita.com/rabindranath/aychana/\nhttps://www.bangla-kobita.com/rabindranath/yujuy-nade/\nhttps://www.bangla-kobita.com/rabindranath/oggyato-bissho/\nhttps://www.bangla-kobita.com/rabindranath/oncholer-batas/\nhttps://www.bangla-kobita.com/rabindranath/onukabbo/\nhttps://www.bangla-kobita.com/rabindranath/oto-chupi-chupi-keno-kotha-kow/\nhttps://www.bangla-kobita.com/rabindranath/oti-dure-akasher-sukumar-pandur-nilima/\nhttps://www.bangla-kobita.com/rabindranath/odrishyo-karon/\nhttps://www.bangla-kobita.com/rabindranath/odrishter-hate-lekha/\nhttps://www.bangla-kobita.com/rabindranath/yudara/\nhttps://www.bangla-kobita.com/rabindranath/odhikar/\nhttps://www.bangla-kobita.com/rabindranath/ononto-jibon/\nhttps://www.bangla-kobita.com/rabindranath/ononto-pothe/\nhttps://www.bangla-kobita.com/rabindranath/ananto-prem/\nhttps://www.bangla-kobita.com/rabindranath/ononto-moron/\nhttps://www.bangla-kobita.com/rabindranath/onobchinno-ami/\nhttps://www.bangla-kobita.com/rabindranath/aunaguta/\nhttps://www.bangla-kobita.com/rabindranath/onaboshyoker-aboshyokota/\nhttps://www.bangla-kobita.com/rabindranath/anabeshte/\nhttps://www.bangla-kobita.com/rabindranath/onabrishti/\nhttps://www.bangla-kobita.com/rabindranath/onitter-joto-aborjona/\nhttps://www.bangla-kobita.com/rabindranath/onurag-o-boiragyo/\nhttps://www.bangla-kobita.com/rabindranath/onek-tiashe-korechi-vromon/\nhttps://www.bangla-kobita.com/rabindranath/onek-mala-gethechi-mor/\nhttps://www.bangla-kobita.com/rabindranath/anak-hajar-busare/\nhttps://www.bangla-kobita.com/rabindranath/aynak-kalar-akta-matta-din/\nhttps://www.bangla-kobita.com/rabindranath/ontor-momo-bikoshito-koro/\nhttps://www.bangla-kobita.com/rabindranath/ontorjami/\nhttps://www.bangla-kobita.com/rabindranath/ondhokarer-par-hote-ani/\nhttps://www.bangla-kobita.com/rabindranath/onner-lagi-mathe/\nhttps://www.bangla-kobita.com/rabindranath/onyo-ma/\nhttps://www.bangla-kobita.com/rabindranath/opoman-bor/\nhttps://www.bangla-kobita.com/rabindranath/opojosh/\nhttps://www.bangla-kobita.com/rabindranath/oporajita-futil/\nhttps://www.bangla-kobita.com/rabindranath/yaprrane-ashechlu-jamobasher-amantna/\nhttps://www.bangla-kobita.com/rabindranath/oporibortonio/\nhttps://www.bangla-kobita.com/rabindranath/oporihorniyo/\nhttps://www.bangla-kobita.com/rabindranath/oboruddho-chilo-bayu/\nhttps://www.bangla-kobita.com/rabindranath/yubjetay/\nhttps://www.bangla-kobita.com/rabindranath/yabusan/\n"
     ]
    }
   ],
   "source": [
    "tds = soup.find_all('td')\n",
    "for td in tds:\n",
    "    metas = td.find_all('meta', itemprop=\"url\")\n",
    "    for meta in metas:\n",
    "        print(meta.get('content'))"
   ]
  },
  {
   "cell_type": "code",
   "execution_count": 71,
   "metadata": {},
   "outputs": [],
   "source": [
    "def get_urls_per_page(url: str) -> List[str]:\n",
    "    \"\"\"\n",
    "    inputs::\n",
    "    url of a page containing many poems from one author -> str\n",
    "\n",
    "    outputs::\n",
    "    a list of str of urls\n",
    "\n",
    "    returns::\n",
    "    a list of str of urls -> list\n",
    "    \"\"\"\n",
    "    list_of_urls = []\n",
    "    html_text = requests.get(url).text\n",
    "    soup = BeautifulSoup(html_text, 'lxml')\n",
    "    tds = soup.find_all('td')\n",
    "    for td in tds:\n",
    "        metas = td.find_all('meta', itemprop=\"url\")\n",
    "        for meta in metas:\n",
    "            list_of_urls.append(meta.get('content'))\n",
    "    return list_of_urls\n"
   ]
  },
  {
   "cell_type": "code",
   "execution_count": 72,
   "metadata": {},
   "outputs": [
    {
     "output_type": "execute_result",
     "data": {
      "text/plain": [
       "['https://www.bangla-kobita.com/rabindranath/obosan-holo-rati/',\n",
       " 'https://www.bangla-kobita.com/rabindranath/ahbechar/',\n",
       " 'https://www.bangla-kobita.com/rabindranath/obodh-hia-bujhe-na-bojhe/',\n",
       " 'https://www.bangla-kobita.com/rabindranath/ovoy/',\n",
       " 'https://www.bangla-kobita.com/rabindranath/oviman/',\n",
       " 'https://www.bangla-kobita.com/rabindranath/ovishar/',\n",
       " 'https://www.bangla-kobita.com/rabindranath/aral-diye-lukiye-gele/',\n",
       " 'https://www.bangla-kobita.com/rabindranath/omoldhara-jhorna-jemon/',\n",
       " 'https://www.bangla-kobita.com/rabindranath/ojoggyer-upohas/',\n",
       " 'https://www.bangla-kobita.com/rabindranath/olos-shojyar-pashe-jibon-monthorgoti-chole/',\n",
       " 'https://www.bangla-kobita.com/rabindranath/olos-somy-dhara-beye/',\n",
       " 'https://www.bangla-kobita.com/rabindranath/olpo-jana-o-beshi-jana/',\n",
       " 'https://www.bangla-kobita.com/rabindranath/olpete-khushi-hobe/',\n",
       " 'https://www.bangla-kobita.com/rabindranath/yusamay/',\n",
       " 'https://www.bangla-kobita.com/rabindranath/osomoy/',\n",
       " 'https://www.bangla-kobita.com/rabindranath/osompurno-songbad/',\n",
       " 'https://www.bangla-kobita.com/rabindranath/osomvob/',\n",
       " 'https://www.bangla-kobita.com/rabindranath/osomvob-valo/',\n",
       " 'https://www.bangla-kobita.com/rabindranath/osaddhyo-chesta/',\n",
       " 'https://www.bangla-kobita.com/rabindranath/ostsokhi/',\n",
       " 'https://www.bangla-kobita.com/rabindranath/ostacholer-porpare/',\n",
       " 'https://www.bangla-kobita.com/rabindranath/yasputtay/',\n",
       " 'https://www.bangla-kobita.com/rabindranath/osfuto-o-porisfuto/',\n",
       " 'https://www.bangla-kobita.com/rabindranath/akhi-pane-jobe-akhi-tuli/',\n",
       " 'https://www.bangla-kobita.com/rabindranath/aidial-nie-thake/',\n",
       " 'https://www.bangla-kobita.com/rabindranath/akangkha/',\n",
       " 'https://www.bangla-kobita.com/rabindranath/akangkha-konika/',\n",
       " 'https://www.bangla-kobita.com/rabindranath/akas/',\n",
       " 'https://www.bangla-kobita.com/rabindranath/akashtole-uthlo-fute/',\n",
       " 'https://www.bangla-kobita.com/rabindranath/akasprodip/',\n",
       " 'https://www.bangla-kobita.com/rabindranath/akash-sindhu-majhe-ek-thai/',\n",
       " 'https://www.bangla-kobita.com/rabindranath/akasa-cha-dakhe/',\n",
       " 'https://www.bangla-kobita.com/rabindranath/akashe-choraye-banii/',\n",
       " 'https://www.bangla-kobita.com/rabindranath/akashe-jugol-atar/',\n",
       " 'https://www.bangla-kobita.com/rabindranath/akashe-sona-megh/',\n",
       " 'https://www.bangla-kobita.com/rabindranath/akasher-alo-matir-tolai/',\n",
       " 'https://www.bangla-kobita.com/rabindranath/akasher-chad/',\n",
       " 'https://www.bangla-kobita.com/rabindranath/akul-ahuban/',\n",
       " 'https://www.bangla-kobita.com/rabindranath/akul-ahban/',\n",
       " 'https://www.bangla-kobita.com/rabindranath/agamoni/',\n",
       " 'https://www.bangla-kobita.com/rabindranath/agun-jolito-jobe/',\n",
       " 'https://www.bangla-kobita.com/rabindranath/achi-ami-bindurupe-he-ontorjami/',\n",
       " 'https://www.bangla-kobita.com/rabindranath/hridoy-achhe-bhore/',\n",
       " 'https://www.bangla-kobita.com/rabindranath/aj-gori-khelaghor/',\n",
       " 'https://www.bangla-kobita.com/rabindranath/aaj-dhaner-khete/',\n",
       " 'https://www.bangla-kobita.com/rabindranath/aj-borshar-rup-heri-manober-majhe/',\n",
       " 'https://www.bangla-kobita.com/rabindranath/aj-bari-jhore-jhor-jhor/',\n",
       " 'https://www.bangla-kobita.com/rabindranath/aj-mone-hoy-sokoleri-majhe/',\n",
       " 'https://www.bangla-kobita.com/rabindranath/ach-suratar-aloy-chay-dakhe/',\n",
       " 'https://www.bangla-kobita.com/rabindranath/aji-bosonto-jagroto-dare/']"
      ]
     },
     "metadata": {},
     "execution_count": 72
    }
   ],
   "source": [
    "get_urls_per_page(url='https://www.bangla-kobita.com/rabindranath/?t=p&pp=2')"
   ]
  },
  {
   "cell_type": "code",
   "execution_count": 96,
   "metadata": {},
   "outputs": [
    {
     "output_type": "execute_result",
     "data": {
      "text/plain": [
       "29"
      ]
     },
     "metadata": {},
     "execution_count": 96
    }
   ],
   "source": [
    "pages = soup.find_all('ul', class_='pagination')\n",
    "for page in pages:\n",
    "    a_s = page.find_all('a')\n",
    "    hrefs = [a.get('href') for a in a_s]\n",
    "\n",
    "last_page_n = int(hrefs[-1].split('=')[-1])\n",
    "last_page_n"
   ]
  },
  {
   "cell_type": "code",
   "execution_count": 101,
   "metadata": {},
   "outputs": [],
   "source": [
    "ROOT_URL = 'https://www.bangla-kobita.com/'\n",
    "POET_URL = 'rabindranath/'"
   ]
  },
  {
   "cell_type": "code",
   "execution_count": 106,
   "metadata": {},
   "outputs": [
    {
     "output_type": "execute_result",
     "data": {
      "text/plain": [
       "['https://www.bangla-kobita.com/rabindranath/?t=p&pp=0',\n",
       " 'https://www.bangla-kobita.com/rabindranath/?t=p&pp=1',\n",
       " 'https://www.bangla-kobita.com/rabindranath/?t=p&pp=2',\n",
       " 'https://www.bangla-kobita.com/rabindranath/?t=p&pp=3',\n",
       " 'https://www.bangla-kobita.com/rabindranath/?t=p&pp=4',\n",
       " 'https://www.bangla-kobita.com/rabindranath/?t=p&pp=5',\n",
       " 'https://www.bangla-kobita.com/rabindranath/?t=p&pp=6',\n",
       " 'https://www.bangla-kobita.com/rabindranath/?t=p&pp=7',\n",
       " 'https://www.bangla-kobita.com/rabindranath/?t=p&pp=8',\n",
       " 'https://www.bangla-kobita.com/rabindranath/?t=p&pp=9',\n",
       " 'https://www.bangla-kobita.com/rabindranath/?t=p&pp=10',\n",
       " 'https://www.bangla-kobita.com/rabindranath/?t=p&pp=11',\n",
       " 'https://www.bangla-kobita.com/rabindranath/?t=p&pp=12',\n",
       " 'https://www.bangla-kobita.com/rabindranath/?t=p&pp=13',\n",
       " 'https://www.bangla-kobita.com/rabindranath/?t=p&pp=14',\n",
       " 'https://www.bangla-kobita.com/rabindranath/?t=p&pp=15',\n",
       " 'https://www.bangla-kobita.com/rabindranath/?t=p&pp=16',\n",
       " 'https://www.bangla-kobita.com/rabindranath/?t=p&pp=17',\n",
       " 'https://www.bangla-kobita.com/rabindranath/?t=p&pp=18',\n",
       " 'https://www.bangla-kobita.com/rabindranath/?t=p&pp=19',\n",
       " 'https://www.bangla-kobita.com/rabindranath/?t=p&pp=20',\n",
       " 'https://www.bangla-kobita.com/rabindranath/?t=p&pp=21',\n",
       " 'https://www.bangla-kobita.com/rabindranath/?t=p&pp=22',\n",
       " 'https://www.bangla-kobita.com/rabindranath/?t=p&pp=23',\n",
       " 'https://www.bangla-kobita.com/rabindranath/?t=p&pp=24',\n",
       " 'https://www.bangla-kobita.com/rabindranath/?t=p&pp=25',\n",
       " 'https://www.bangla-kobita.com/rabindranath/?t=p&pp=26',\n",
       " 'https://www.bangla-kobita.com/rabindranath/?t=p&pp=27',\n",
       " 'https://www.bangla-kobita.com/rabindranath/?t=p&pp=28',\n",
       " 'https://www.bangla-kobita.com/rabindranath/?t=p&pp=29']"
      ]
     },
     "metadata": {},
     "execution_count": 106
    }
   ],
   "source": [
    "page_urls = [ROOT_URL + POET_URL + '?t=p&pp=' + str(i) for i in range(last_page_n+1)]\n",
    "\n",
    "# for i in range(last_page_n + 1):\n",
    "#     page_url = ROOT_URL + POET_URL + '?t=p&pp=' + str(i)\n",
    "#     print(page_url)\n",
    "\n",
    "page_urls"
   ]
  },
  {
   "cell_type": "code",
   "execution_count": 118,
   "metadata": {},
   "outputs": [
    {
     "output_type": "execute_result",
     "data": {
      "text/plain": [
       "'<!DOCTYPE html>\\n<html lang=\"bn\">\\n<head>\\n<meta charset=\"utf-8\" />\\n<meta name=\"viewport\" content=\"width=device-width, initial-scale=1.0\">\\n<title>সুকান্ত ভট্টাচার্য-এর পাতা</title>\\n<link rel=\"image_src\" href=\"https://www.bangla-kobita.com/images/bangla-kobita.png\" />\\n<link href=\"/ContentDefault/css?v=DW1YA69Lunjbi5S8BLmpSJ_VvMRVvcgfZk1pkgZjsB41\" rel=\"stylesheet\" />\\n<script src=\"/bundles/modernizr?v=w9fZKPSiHtN4N4FRqV7jn-3kGoQY5hHpkwFv5TfMrus1\"></script>\\n<script src=\"/bundles/bangla?v=AuzRyEqjArEPq1GNCXLOlrw_NJgnxGAmrBLGQOvurNo1\"></script>\\n<meta property=\"fb:app_id\" content=\"119372368210951\" />\\n<meta property=\"og:type\" content=\"website\" />\\n<meta property=\"og:image\" content=\"https://www.bangla-kobita.com/images/up/0/pp8-x6v.jpg\" />\\n<meta property=\"og:title\" content=\"সুকান্ত ভট্টাচার্য - বাংলা কবিতা\" />\\n<meta property=\"og:description\" content=\"বাংলা-কবিতা ডটকমে সুকান্ত ভট্টাচার্য-এর প্রোফাইল পাতা।\" />\\n<meta property=\"og:site_name\" content=\"www.bangla-kobita.com\" />\\n<meta property=\"og:url\" content=\"https://www.bangla-kobita.com/sukanta/\" />\\n<meta name=\"twitter:card\" content=\"summary\" />\\n<meta name=\"twitter:image\" content=\"https://www.bangla-kobita.com/images/up/0/pp8-x6v.jpg\" />\\n<meta name=\"twitter:title\" content=\"সুকান্ত ভট্টাচার্য - বাংলা কবিতা\" />\\n<meta name=\"twitter:description\" content=\"বাংলা-কবিতা ডটকমে সুকান্ত ভট্টাচার্য-এর প্রোফাইল পাতা।\" />\\n<meta name=\"twitter:site\" content=\"@BanglaKobita4U\" />\\n</head>\\n<body>\\n<div class=\"container\">\\n<header>\\n<div class=\"banner-right\">\\n<ul>\\n<li><i class=\"icon icon-check\"></i> <a title=\"Register as a member\" href=\"/account/register\">রেজিস্ট্রেশন</a></li>\\n<li><i class=\"icon icon-log-in\"></i> <a title=\"Login\" href=\"/account/login\">লগ ইন</a></li>\\n</ul>\\n<form action=\"/Home/SelectLanguage\" method=\"post\"> <select id=\"Language\" name=\"Language\" onchange=\"this.form.submit()\">\\n<option value=\"Bangla\" selected=\"selected\">বাংলা</option>\\n<option value=\"English\">English</option>\\n</select>\\n</form>\\n<div class=\"addthis_horizontal_follow_toolbox addthis-follow\"></div>\\n</div>\\n<div class=\"logo\">\\n<a title=\"www.bangla-kobita.com\" href=\"/\"><img src=\"/Images/Logo.png\" alt=\"www.bangla-kobita.com\" /></a>\\n</div>\\n</header>\\n<div class=\"navbar\">\\n<div class=\"navbar-header visible-xs\">\\n<button type=\"button\" class=\"navbar-toggle\" data-toggle=\"collapse\" data-target=\".navbar-collapse\">\\n<span class=\"icon-bar\"></span>\\n<span class=\"icon-bar\"></span>\\n<span class=\"icon-bar\"></span>\\n</button>\\n</div>\\n<div class=\"navbar-collapse collapse\">\\n<ul class=\"nav navbar-nav\">\\n<li class=\"first\"><a title=\"Home\" href=\"/\"><i class=\"icon icon-home\"></i></a></li>\\n<li><a title=\"Famous poets\" href=\"/famouspoets/\">খ্যাতিমান কবি</a></li>\\n<li><a title=\"Kobitar ashor\" href=\"/ashor/\">কবিতার আসর</a></li>\\n<li><a title=\"Recitations\" href=\"/abritti/\">আবৃত্তি</a></li>\\n<li class=\"last\"><a title=\"Alochona shobha\" href=\"/alochona/\">আলোচনা</a></li>\\n</ul>\\n<div class=\"date-today\">\\n<span class=\"e-date display-none\">\\nTuesday, July 6, 2021\\n</span>\\n <span class=\"b-date display-block\">\\n<span class=\"partialContent\" data-url=\"/home/bangladate/\">\\n</span>\\n</span>\\n</div>\\n</div>\\n</div>\\n<div class=\"row body-content\">\\n<div class=\"col-md-8\">\\n<div class=\"row visible-xs visible-sm switch-content btm0\" data-screen=\"smx\" data-parent-id=\"panelMenu\">\\n</div>\\n<div class=\"row visible-xs visible-sm switch-content btm0\" data-screen=\"smx\" data-parent-id=\"shareButtons\">\\n</div>\\n<div itemscope itemtype=\"http://schema.org/Person\">\\n<meta itemprop=\"image\" content=\"https://www.bangla-kobita.com/images/up/0/pp8-x6v.jpg\" />\\n<meta itemprop=\"url\" content=\"https://www.bangla-kobita.com/sukanta/\" />\\n<div class=\"login-name\">\\n@sukanta\\n</div>\\n<h1>\\n<span itemprop=\"name\">সুকান্ত ভট্টাচার্য</span>\\n</h1>\\n<div class=\"row\">\\n<div class=\"col-sm-4 \">\\n<div class=\"pic user-pic\">\\n<img src=\"/images/up/0/pp8-x6v.jpg\" title=\"সুকান্ত ভট্টাচার্য-এর প্রোফাইল ছবি\" alt=\"সুকান্ত ভট্টাচার্য\" />\\n</div>\\n</div>\\n<div class=\"col-sm-8\">\\n<table class=\"table table-striped table-responsive\">\\n<tr>\\n<th>জন্ম তারিখ</th>\\n<td>\\n১৫ অগাস্ট ১৯২৬ <meta itemprop=\"birthDate\" content=\"1926-08-15\" />\\n</td>\\n</tr>\\n<tr>\\n<th>জন্মস্থান</th>\\n<td>\\n<span itemprop=\"birthPlace\">কালীঘাট, কোলকাতা, ভারত</span>\\n</td>\\n</tr>\\n<tr>\\n<th>মৃত্যু</th>\\n<td>\\n১৩ মার্চ ১৯৪৭\\n<meta itemprop=\"deathDate\" content=\"1947-03-13\" />\\n</td>\\n</tr>\\n</table>\\n</div>\\n</div>\\n<div itemprop=\"description\" class=\"about top10 sl-content\" data-height=\"100\" data-less-caption=\"সংক্ষিপ্ত\" data-more-caption=\"বিস্তারিত\">\\n<p class=\"display-block\">\\nপিতা-নিবারন ভট্টাচার্য, মা-সুনীতি দেবী। ১৯২৬ সালের ১৫ আগস্ট মাতামহের ৪৩, মহিম হালদার স্ট্রীটের বাড়ীতে তার জন্ম।। তাঁর পৈতৃক নিবাস ছিল ফরিদপুর জেলার(বর্তমান গোপালগঞ্জ জেলার কোটালীপাড়া থানার উনশিয়া গ্রামে)। ১৯৪৫ সালে প্রবেশিকা পরীক্ষায় অংশগ্রহণ করে অকৃতকার্য হন। এ সময় ছাত্র আন্দোলন ও বামপন্থী রাজনৈতিক কর্মকাণ্ডে যুক্ত হওয়ায় তাঁর আনুষ্ঠানিক শিক্ষার সমাপ্তি ঘটে। সুকান্তের বাল্যবন্ধু ছিলেন কবি অরুনাচল বসু। সুকান্ত সমগ্রতে লেখা সুকান্তের চিঠিগুলির বেশিরভাগই অরুনাচল বসুকে লেখা। অরুনাচল বসুর মাতা কবি সরলা বসু সুকান্তকে পুত্রস্নেহে দেখতেন। সুকান্তের ছেলেবেলায় মাতৃহারা হলেও সরলা বসু তাকে সেই অভাব কিছুটা পুরন করে দিতেন। কবির জীবনের বেশিরভাগ সময় কেটেছিল কলকাতার বেলেঘাটার ৩৪ হরমোহন ঘোষ লেনের বাড়ীতে। সেই বাড়িটি এখনো অক্ষত আছে। পাশের বাড়ীটিতে এখনো বসবাস করেন সুকান্তের একমাত্র জীবিত ভাই বিভাস ভট্টাচার্য। পশ্চিমবঙ্গের প্রাক্তন মুখ্যমন্ত্রী বুদ্ধদেব ভট্টাচার্য সুকান্তের নিজের ভাতুষ্পুত্র। (উৎসঃ উইকিপিডিয়া)\\n</p>\\n<p class=\"display-none\">\\nSukanta Bhattacharya (15 August 1926 – 13 May 1947) was a Bengali poet and playwright. Along with Rabindranath Tagore and Kazi Nazrul Islam, he was one of the key figures of modern Bengali poetry, despite the fact that most of his works had been in publication posthumously. During his life, his poems were not widely circulated, but after his death his reputation grew to the extent that he became one of the most popular Bengali poet of the 20th century. He has had a significant influence on poet Subhas Mukhopadhyay and composer Salil Chowdhury who set some of his popular poems to music. (Source: Wikipedia)\\n</p>\\n</div>\\n<div class=\"ad-wide-strict\">\\n<ins class=\"adsbygoogle\" style=\"display:block\" data-ad-client=\"ca-pub-9365325991113290\" data-ad-slot=\"2008035413\" data-ad-format=\"horizontal\"></ins>\\n<script>\\r\\n    (adsbygoogle = window.adsbygoogle || []).push({});\\r\\n</script>\\n</div>\\n<br />\\n<div>\\n<ul class=\"nav nav-tabs\" role=\"tablist\">\\n<li role=\"presentation\" class=\"active\">\\n<a title=\"Poems\" href=\"#poem\" aria-controls=\"poem\" role=\"tab\" data-toggle=\"tab\">কবিতা</a>\\n</li>\\n<li role=\"presentation\"><a title=\"Books\" href=\"#book\" aria-controls=\"book\" role=\"tab\" data-toggle=\"tab\">বই</a></li>\\n</ul>\\n<div class=\"tab-content top20\">\\n<div role=\"tabpanel\" class=\"tab-pane active\" id=\"poem\">\\n<a title=\"Poetry RSS\" href=\"/sukanta/feed/\" target=\"_blank\" class=\"pull-right\"><img src=\"/images/rss.png\" alt=\"Poetry RSS\" /></a>\\n<p class=\"display-block text-left\">\\nএখানে সুকান্ত ভট্টাচার্য-এর ১৩৮টি কবিতা পাবেন।\\n</p>\\n<p class=\"display-none text-left\">\\nThere\\'s 138 poem(s) of সুকান্ত ভট্টাচার্য listed bellow.\\n</p>\\n<div class=\"clearfix\"></div>\\n<div class=\"list-options\">\\n<div class=\"lang-selector\">\\n<script type=\"text/javascript\">\\r\\n\\r\\n    var spbKeyboard = new banglaKeyboard();\\r\\n\\r\\n\\r\\n    function spKeyboardLayoutOptionClick() {\\r\\n        var field = document.getElementsByName(\\'spKeyboardSelector\\');\\r\\n\\r\\n        for (var counter = 0; counter < field.length; counter++) {\\r\\n            if (field[counter].checked) {\\r\\n                EnglishKeyboard = false;\\r\\n                spbKeyboard.KeyBoardLayout = counter + 1;\\r\\n\\r\\n                bnwSetCookie(\"bk.KeyboardLayout\", field[counter].value, 90, \"/\");\\r\\n\\r\\n                try\\r\\n                {\\r\\n                    var myFld = document.getElementById(\"searchQsp\");\\r\\n                    myFld.focus();\\r\\n                }\\r\\n                catch (err)\\r\\n                {\\r\\n\\r\\n                }\\r\\n               break;\\r\\n            }\\r\\n        }\\r\\n    } \\r\\n\\r\\n    function spOnPageLoad()\\r\\n    {\\r\\n        spbKeyboard.KeyBoardLayout = 2;\\r\\n    }\\r\\n\\r\\n\\r\\n    spOnPageLoad();\\r\\n\\r\\n</script>\\n<span class=\"bangla-editor\">\\n<input id=\"sprdKeyboard1\" onclick=\"spKeyboardLayoutOptionClick()\" name=\"spKeyboardSelector\" value=\"1\" type=\"radio\" /> <label for=\"sprdKeyboard1\">ইংরেজি</label>\\n&nbsp; <input id=\"sprdKeyboard2\" onclick=\"spKeyboardLayoutOptionClick()\" name=\"spKeyboardSelector\" value=\"2\" type=\"radio\" Checked=\"Checked\" /> <label for=\"sprdKeyboard2\">অভ্র</label>\\n&nbsp; <input id=\"sprdKeyboard3\" onclick=\"spKeyboardLayoutOptionClick()\" name=\"spKeyboardSelector\" value=\"3\" type=\"radio\" /> <label for=\"sprdKeyboard3\">ইউনিজয়</label>\\n</span>\\n</div>\\n<form onsubmit=\"return searchspInList()\" method=\"GET\" class=\"filter-box\">\\n<input id=\"searchQsp\" name=\"searchQsp\" class=\"search-input\" value=\"নির্দিষ্ট কবিতা খুঁজছেন?\" onfocus=\"if(this.value==\\'নির্দিষ্ট কবিতা খুঁজছেন?\\'){this.value=\\'\\';this.style.color = \\'#333\\';}\" onblur=\"if(this.value==\\'\\'){this.value=\\'নির্দিষ্ট কবিতা খুঁজছেন?\\';this.style.color=\\'#999\\';}\" type=\"text\" onkeydown=\"return spbKeyboard.KeyBoardDown(event)\" , onkeypress=\"return spbKeyboard.KeyBoardPress(event)\" />\\n<a title=\"Search book\" class=\"btn btn-default\" onclick=\"return searchspInList()\">\\n<i class=\"icon icon-search\"></i>\\nসার্চ করুন\\n</a>\\n</form>\\n<div class=\"sort-box\">\\n<label for=\"sortOptionssp\">ক্রমানুসার: </label>\\n<select id=\"sortOptionssp\" name=\"sortOptionssp\" onchange=\"navigateURLsp()\">\\n<option value=\"n\" selected=\"selected\">নাম</option>\\n<option value=\"d\">তারিখ</option>\\n</select>\\n</div>\\n<div class=\"clearfix\"></div>\\n</div>\\n<table class=\"post-list table table-striped table-responsive table-condensed\" itemscope itemtype=\"http://schema.org/ItemList\">\\n<tr>\\n<th class=\"yt-icon hidden-xs\">&nbsp;</th>\\n<th class=\"post-title\">\\n<div class=\"row\">\\n<div class=\"col-sm-12\">\\nশিরোনাম\\n</div>\\n</div>\\n</th>\\n<th class=\"text-right\">মন্তব্য</th>\\n</tr>\\n<tr class=\"\">\\n<td class=\"hidden-xs\">\\n</td>\\n<td>\\n<span itemprop=\"itemListElement\" itemscope itemtype=\"http://schema.org/CreativeWork\">\\n<meta itemprop=\"name headline\" content=\"১৯৪১ সাল\" />\\n<meta itemprop=\"author\" content=\"সুকান্ত ভট্টাচার্য\" />\\n<meta itemprop=\"datePublished\" content=\"2012-11-20T10:54:11Z\" />\\n<meta itemprop=\"genre\" content=\"Poem\" />\\n<meta itemprop=\"position\" content=\"1\" />\\n<meta itemprop=\"url\" content=\"https://www.bangla-kobita.com/sukanta/1941-shal/\" />\\n</span>\\n<div class=\"row\">\\n<div class=\"col-sm-12\">\\n<a title=\"১৯৪১ সাল\" href=\"/sukanta/1941-shal/\">১৯৪১ সাল</a>\\n</div>\\n</div>\\n</td>\\n<td class=\"text-right\">৫</td>\\n</tr>\\n<tr class=\"\">\\n<td class=\"hidden-xs\">\\n</td>\\n<td>\\n<span itemprop=\"itemListElement\" itemscope itemtype=\"http://schema.org/CreativeWork\">\\n<meta itemprop=\"name headline\" content=\"১লা মে-র কবিতা\" />\\n <meta itemprop=\"author\" content=\"সুকান্ত ভট্টাচার্য\" />\\n<meta itemprop=\"datePublished\" content=\"2012-11-20T10:42:52Z\" />\\n<meta itemprop=\"genre\" content=\"Poem\" />\\n<meta itemprop=\"position\" content=\"2\" />\\n<meta itemprop=\"url\" content=\"https://www.bangla-kobita.com/sukanta/1st-mayer-kobita/\" />\\n</span>\\n<div class=\"row\">\\n<div class=\"col-sm-12\">\\n<a title=\"১লা মে-র কবিতা\" href=\"/sukanta/1st-mayer-kobita/\">১লা মে-র কবিতা</a>\\n</div>\\n</div>\\n</td>\\n<td class=\"text-right\">১০</td>\\n</tr>\\n<tr class=\"\">\\n<td class=\"hidden-xs\">\\n</td>\\n<td>\\n<span itemprop=\"itemListElement\" itemscope itemtype=\"http://schema.org/CreativeWork\">\\n<meta itemprop=\"name headline\" content=\"অতি কিশোরের ছড়া\" />\\n<meta itemprop=\"author\" content=\"সুকান্ত ভট্টাচার্য\" />\\n<meta itemprop=\"datePublished\" content=\"2018-02-18T10:09:06Z\" />\\n<meta itemprop=\"genre\" content=\"Poem\" />\\n<meta itemprop=\"position\" content=\"3\" />\\n<meta itemprop=\"url\" content=\"https://www.bangla-kobita.com/sukanta/oti-kisorer-chora/\" />\\n</span>\\n<div class=\"row\">\\n<div class=\"col-sm-12\">\\n<a title=\"অতি কিশোরের ছড়া\" href=\"/sukanta/oti-kisorer-chora/\">অতি কিশোরের ছড়া</a>\\n</div>\\n</div>\\n</td>\\n<td class=\"text-right\">২</td>\\n</tr>\\n<tr class=\"\">\\n<td class=\"hidden-xs\">\\n</td>\\n<td>\\n<span itemprop=\"itemListElement\" itemscope itemtype=\"http://schema.org/CreativeWork\">\\n<meta itemprop=\"name headline\" content=\"অদ্বৈধ\" />\\n<meta itemprop=\"author\" content=\"সুকান্ত ভট্টাচার্য\" />\\n<meta itemprop=\"datePublished\" content=\"2012-09-12T13:51:57Z\" />\\n<meta itemprop=\"genre\" content=\"Poem\" />\\n<meta itemprop=\"position\" content=\"4\" />\\n<meta itemprop=\"url\" content=\"https://www.bangla-kobita.com/sukanta/odboidho/\" />\\n</span>\\n<div class=\"row\">\\n<div class=\"col-sm-12\">\\n<a title=\"অদ্বৈধ\" href=\"/sukanta/odboidho/\">অদ্বৈধ</a>\\n</div>\\n</div>\\n</td>\\n<td class=\"text-right\">২</td>\\n</tr>\\n<tr class=\"\">\\n<td class=\"hidden-xs\">\\n</td>\\n<td>\\n<span itemprop=\"itemListElement\" itemscope itemtype=\"http://schema.org/CreativeWork\">\\n<meta itemprop=\"name headline\" content=\"অনন্যোপায়\" />\\n<meta itemprop=\"author\" content=\"সুকান্ত ভট্টাচার্য\" />\\n<meta itemprop=\"datePublished\" content=\"2012-09-12T14:14:29Z\" />\\n<meta itemprop=\"genre\" content=\"Poem\" />\\n<meta itemprop=\"position\" content=\"5\" />\\n<meta itemprop=\"url\" content=\"https://www.bangla-kobita.com/sukanta/ononyopay/\" />\\n</span>\\n<div class=\"row\">\\n<div class=\"col-sm-12\">\\n<a title=\"অনন্যোপায়\" href=\"/sukanta/ononyopay/\">অনন্যোপায়</a>\\n</div>\\n</div>\\n</td>\\n<td class=\"text-right\">৩</td>\\n</tr>\\n<tr class=\"\">\\n<td class=\"hidden-xs\">\\n</td>\\n<td>\\n<span itemprop=\"itemListElement\" itemscope itemtype=\"http://schema.org/CreativeWork\">\\n<meta itemprop=\"name headline\" content=\"অনুভব\" />\\n<meta itemprop=\"author\" content=\"সুকান্ত ভট্টাচার্য\" />\\n<meta itemprop=\"datePublished\" content=\"2012-11-21T11:08:24Z\" />\\n<meta itemprop=\"genre\" content=\"Poem\" />\\n<meta itemprop=\"position\" content=\"6\" />\\n<meta itemprop=\"url\" content=\"https://www.bangla-kobita.com/sukanta/feeling/\" />\\n</span>\\n<div class=\"row\">\\n<div class=\"col-sm-12\">\\n<a title=\"অনুভব\" href=\"/sukanta/feeling/\">অনুভব</a>\\n</div>\\n</div>\\n</td>\\n<td class=\"text-right\">৬</td>\\n</tr>\\n<tr class=\"\">\\n<td class=\"hidden-xs\">\\n</td>\\n<td>\\n<span itemprop=\"itemListElement\" itemscope itemtype=\"http://schema.org/CreativeWork\">\\n<meta itemprop=\"name headline\" content=\"অবৈধ\" />\\n<meta itemprop=\"author\" content=\"সুকান্ত ভট্টাচার্য\" />\\n<meta itemprop=\"datePublished\" content=\"2012-11-20T10:53:30Z\" />\\n<meta itemprop=\"genre\" content=\"Poem\" />\\n<meta itemprop=\"position\" content=\"7\" />\\n<meta itemprop=\"url\" content=\"https://www.bangla-kobita.com/sukanta/oboidho/\" />\\n</span>\\n<div class=\"row\">\\n<div class=\"col-sm-12\">\\n<a title=\"অবৈধ\" href=\"/sukanta/oboidho/\">অবৈধ</a>\\n</div>\\n</div>\\n</td>\\n<td class=\"text-right\">১</td>\\n</tr>\\n<tr class=\"\">\\n<td class=\"hidden-xs\">\\n</td>\\n<td>\\n<span itemprop=\"itemListElement\" itemscope itemtype=\"http://schema.org/CreativeWork\">\\n<meta itemprop=\"name headline\" content=\"অভিবাদন\" />\\n<meta itemprop=\"author\" content=\"সুকান্ত ভট্টাচার্য\" />\\n<meta itemprop=\"datePublished\" content=\"2012-11-20T10:40:20Z\" />\\n<meta itemprop=\"genre\" content=\"Poem\" />\\n<meta itemprop=\"position\" content=\"8\" />\\n<meta itemprop=\"url\" content=\"https://www.bangla-kobita.com/sukanta/avibadan/\" />\\n</span>\\n<div class=\"row\">\\n<div class=\"col-sm-12\">\\n<a title=\"অভিবাদন\" href=\"/sukanta/avibadan/\">অভিবাদন</a>\\n</div>\\n</div>\\n</td>\\n<td class=\"text-right\">৩</td>\\n</tr>\\n<tr class=\"\">\\n<td class=\"hidden-xs\">\\n</td>\\n<td>\\n<span itemprop=\"itemListElement\" itemscope itemtype=\"http://schema.org/CreativeWork\">\\n<meta itemprop=\"name headline\" content=\"অলক্ষ্যে\" />\\n<meta itemprop=\"author\" content=\"সুকান্ত ভট্টাচার্য\" />\\n<meta itemprop=\"datePublished\" content=\"2012-11-20T10:48:26Z\" />\\n<meta itemprop=\"genre\" content=\"Poem\" />\\n<meta itemprop=\"position\" content=\"9\" />\\n<meta itemprop=\"url\" content=\"https://www.bangla-kobita.com/sukanta/olokhye/\" />\\n</span>\\n<div class=\"row\">\\n<div class=\"col-sm-12\">\\n<a title=\"অলক্ষ্যে\" href=\"/sukanta/olokhye/\">অলক্ষ্যে</a>\\n</div>\\n</div>\\n</td>\\n<td class=\"text-right\">১</td>\\n</tr>\\n<tr class=\"\">\\n<td class=\"hidden-xs\">\\n</td>\\n<td>\\n<span itemprop=\"itemListElement\" itemscope itemtype=\"http://schema.org/CreativeWork\">\\n<meta itemprop=\"name headline\" content=\"অসহ্য দিন\" />\\n<meta itemprop=\"author\" content=\"সুকান্ত ভট্টাচার্য\" />\\n<meta itemprop=\"datePublished\" content=\"2016-05-08T10:19:41Z\" />\\n<meta itemprop=\"genre\" content=\"Poem\" />\\n<meta itemprop=\"position\" content=\"10\" />\\n<meta itemprop=\"url\" content=\"https://www.bangla-kobita.com/sukanta/post20160508101914/\" />\\n</span>\\n<div class=\"row\">\\n<div class=\"col-sm-12\">\\n<a title=\"অসহ্য দিন\" href=\"/sukanta/post20160508101914/\">অসহ্য দিন</a>\\n</div>\\n</div>\\n</td>\\n<td class=\"text-right\">১</td>\\n</tr>\\n<tr class=\"\">\\n<td class=\"hidden-xs\">\\n</td>\\n<td>\\n<span itemprop=\"itemListElement\" itemscope itemtype=\"http://schema.org/CreativeWork\">\\n<meta itemprop=\"name headline\" content=\"আগামী\" />\\n<meta itemprop=\"author\" content=\"সুকান্ত ভট্টাচার্য\" />\\n<meta itemprop=\"datePublished\" content=\"2012-11-20T10:59:42Z\" />\\n<meta itemprop=\"genre\" content=\"Poem\" />\\n<meta itemprop=\"position\" content=\"11\" />\\n<meta itemprop=\"url\" content=\"https://www.bangla-kobita.com/sukanta/agami/\" />\\n</span>\\n<div class=\"row\">\\n<div class=\"col-sm-12\">\\n<a title=\"আগামী\" href=\"/sukanta/agami/\">আগামী</a>\\n</div>\\n</div>\\n</td>\\n<td class=\"text-right\">৬</td>\\n</tr>\\n<tr class=\"\">\\n<td class=\"hidden-xs\">\\n</td>\\n<td>\\n<span itemprop=\"itemListElement\" itemscope itemtype=\"http://schema.org/CreativeWork\">\\n<meta itemprop=\"name headline\" content=\"আগ্নেয়গিরি\" />\\n<meta itemprop=\"author\" content=\"সুকান্ত ভট্টাচার্য\" />\\n<meta itemprop=\"datePublished\" content=\"2016-05-08T10:17:55Z\" />\\n<meta itemprop=\"genre\" content=\"Poem\" />\\n<meta itemprop=\"position\" content=\"12\" />\\n<meta itemprop=\"url\" content=\"https://www.bangla-kobita.com/sukanta/post20160508101612/\" />\\n</span>\\n<div class=\"row\">\\n<div class=\"col-sm-12\">\\n<a title=\"আগ্নেয়গিরি\" href=\"/sukanta/post20160508101612/\">আগ্নেয়গিরি</a>\\n</div>\\n</div>\\n</td>\\n<td class=\"text-right\">০</td>\\n</tr>\\n<tr class=\"\">\\n<td class=\"hidden-xs\">\\n</td>\\n<td>\\n<span itemprop=\"itemListElement\" itemscope itemtype=\"http://schema.org/CreativeWork\">\\n<meta itemprop=\"name headline\" content=\"আজব লড়াই\" />\\n<meta itemprop=\"author\" content=\"সুকান্ত ভট্টাচার্য\" />\\n<meta itemprop=\"datePublished\" content=\"2016-05-08T04:43:25Z\" />\\n<meta itemprop=\"genre\" content=\"Poem\" />\\n<meta itemprop=\"position\" content=\"13\" />\\n<meta itemprop=\"url\" content=\"https://www.bangla-kobita.com/sukanta/post20160508044225/\" />\\n</span>\\n<div class=\"row\">\\n<div class=\"col-sm-12\">\\n<a title=\"আজব লড়াই\" href=\"/sukanta/post20160508044225/\">আজব লড়াই</a>\\n</div>\\n</div>\\n</td>\\n<td class=\"text-right\">১</td>\\n</tr>\\n<tr class=\"\">\\n<td class=\"hidden-xs\">\\n</td>\\n<td>\\n<span itemprop=\"itemListElement\" itemscope itemtype=\"http://schema.org/CreativeWork\">\\n<meta itemprop=\"name headline\" content=\"আজিকার দিন কেটে যায়\" />\\n<meta itemprop=\"author\" content=\"সুকান্ত ভট্টাচার্য\" />\\n<meta itemprop=\"datePublished\" content=\"2018-02-18T09:10:22Z\" />\\n<meta itemprop=\"genre\" content=\"Poem\" />\\n<meta itemprop=\"position\" content=\"14\" /> \\n<meta itemprop=\"url\" content=\"https://www.bangla-kobita.com/sukanta/ajikar-din-kete-jay/\" />\\n</span>\\n<div class=\"row\">\\n<div class=\"col-sm-12\">\\n<a title=\"আজিকার দিন কেটে যায়\" href=\"/sukanta/ajikar-din-kete-jay/\">আজিকার দিন কেটে যায়</a>\\n</div>\\n</div>\\n</td>\\n<td class=\"text-right\">০</td>\\n</tr>\\n<tr class=\"\">\\n<td class=\"hidden-xs\">\\n<img src=\"/images/play-icon.png\" alt=\"আবৃত্তি\" />\\n</td>\\n<td>\\n<span itemprop=\"itemListElement\" itemscope itemtype=\"http://schema.org/CreativeWork\">\\n<meta itemprop=\"name headline\" content=\"আঠারো বছর বয়স\" />\\n<meta itemprop=\"author\" content=\"সুকান্ত ভট্টাচার্য\" />\\n<meta itemprop=\"datePublished\" content=\"2016-05-08T10:32:30Z\" />\\n<meta itemprop=\"genre\" content=\"Poem\" />\\n<meta itemprop=\"position\" content=\"15\" />\\n<meta itemprop=\"url\" content=\"https://www.bangla-kobita.com/sukanta/atharo-bosor-boyos/\" />\\n</span>\\n<div class=\"row\">\\n<div class=\"col-sm-12\">\\n<a title=\"আঠারো বছর বয়স\" href=\"/sukanta/atharo-bosor-boyos/\">আঠারো বছর বয়স</a>\\n</div>\\n</div>\\n</td>\\n<td class=\"text-right\">১৩</td>\\n</tr>\\n<tr class=\"\">\\n<td class=\"hidden-xs\">\\n</td>\\n<td>\\n<span itemprop=\"itemListElement\" itemscope itemtype=\"http://schema.org/CreativeWork\">\\n<meta itemprop=\"name headline\" content=\"আমরা এসেছি\" />\\n<meta itemprop=\"author\" content=\"সুকান্ত ভট্টাচার্য\" />\\n<meta itemprop=\"datePublished\" content=\"2012-11-20T10:40:54Z\" />\\n<meta itemprop=\"genre\" content=\"Poem\" />\\n<meta itemprop=\"position\" content=\"16\" />\\n<meta itemprop=\"url\" content=\"https://www.bangla-kobita.com/sukanta/amra-eshechhi/\" />\\n</span>\\n<div class=\"row\">\\n<div class=\"col-sm-12\">\\n<a title=\"আমরা এসেছি\" href=\"/sukanta/amra-eshechhi/\">আমরা এসেছি</a>\\n</div>\\n</div>\\n</td>\\n<td class=\"text-right\">২</td>\\n</tr>\\n<tr class=\"\">\\n<td class=\"hidden-xs\">\\n</td>\\n<td>\\n<span itemprop=\"itemListElement\" itemscope itemtype=\"http://schema.org/CreativeWork\">\\n<meta itemprop=\"name headline\" content=\"আমার মৃত্যুর পর\" />\\n<meta itemprop=\"author\" content=\"সুকান্ত ভট্টাচার্য\" />\\n<meta itemprop=\"datePublished\" content=\"2018-02-18T10:26:46Z\" />\\n<meta itemprop=\"genre\" content=\"Poem\" />\\n<meta itemprop=\"position\" content=\"17\" />\\n<meta itemprop=\"url\" content=\"https://www.bangla-kobita.com/sukanta/amar-mrityur-por/\" />\\n</span>\\n<div class=\"row\">\\n<div class=\"col-sm-12\">\\n<a title=\"আমার মৃত্যুর পর\" href=\"/sukanta/amar-mrityur-por/\">আমার মৃত্যুর পর</a>\\n</div>\\n</div>\\n</td>\\n<td class=\"text-right\">১</td>\\n</tr>\\n<tr class=\"\">\\n<td class=\"hidden-xs\">\\n</td>\\n<td>\\n<span itemprop=\"itemListElement\" itemscope itemtype=\"http://schema.org/CreativeWork\">\\n<meta itemprop=\"name headline\" content=\"আলো-অন্ধকার\" />\\n<meta itemprop=\"author\" content=\"সুকান্ত ভট্টাচার্য\" />\\n <meta itemprop=\"datePublished\" content=\"2018-02-18T10:27:24Z\" />\\n<meta itemprop=\"genre\" content=\"Poem\" />\\n<meta itemprop=\"position\" content=\"18\" />\\n<meta itemprop=\"url\" content=\"https://www.bangla-kobita.com/sukanta/alo-ondhokar/\" />\\n</span>\\n<div class=\"row\">\\n<div class=\"col-sm-12\">\\n<a title=\"আলো-অন্ধকার\" href=\"/sukanta/alo-ondhokar/\">আলো-অন্ধকার</a>\\n</div>\\n</div>\\n</td>\\n<td class=\"text-right\">১</td>\\n</tr>\\n<tr class=\"\">\\n<td class=\"hidden-xs\">\\n</td>\\n<td>\\n<span itemprop=\"itemListElement\" itemscope itemtype=\"http://schema.org/CreativeWork\">\\n<meta itemprop=\"name headline\" content=\"আসন্ন আঁধারে\" />\\n<meta itemprop=\"author\" content=\"সুকান্ত ভট্টাচার্য\" />\\n<meta itemprop=\"datePublished\" content=\"2018-02-18T10:28:10Z\" />\\n<meta itemprop=\"genre\" content=\"Poem\" />\\n<meta itemprop=\"position\" content=\"19\" />\\n<meta itemprop=\"url\" content=\"https://www.bangla-kobita.com/sukanta/asonno-adhare/\" />\\n</span>\\n<div class=\"row\">\\n<div class=\"col-sm-12\">\\n<a title=\"আসন্ন আঁধারে\" href=\"/sukanta/asonno-adhare/\">আসন্ন আঁধারে</a>\\n</div>\\n</div>\\n</td>\\n<td class=\"text-right\">০</td>\\n</tr>\\n<tr class=\"\">\\n<td class=\"hidden-xs\">\\n</td>\\n<td>\\n<span itemprop=\"itemListElement\" itemscope itemtype=\"http://schema.org/CreativeWork\">\\n<meta itemprop=\"name headline\" content=\"ইউরোপের উদ্দেশে\" />\\n<meta itemprop=\"author\" content=\"সুকান্ত ভট্টাচার্য\" />\\n<meta itemprop=\"datePublished\" content=\"2012-11-21T10:58:47Z\" />\\n<meta itemprop=\"genre\" content=\"Poem\" />\\n<meta itemprop=\"position\" content=\"20\" />\\n<meta itemprop=\"url\" content=\"https://www.bangla-kobita.com/sukanta/europe-er-uddeshe/\" />\\n</span>\\n<div class=\"row\">\\n<div class=\"col-sm-12\">\\n<a title=\"ইউরোপের উদ্দেশে\" href=\"/sukanta/europe-er-uddeshe/\">ইউরোপের উদ্দেশে</a>\\n</div>\\n</div>\\n</td>\\n<td class=\"text-right\">৩</td>\\n</tr>\\n<tr class=\"\">\\n<td class=\"hidden-xs\">\\n</td>\\n<td>\\n<span itemprop=\"itemListElement\" itemscope itemtype=\"http://schema.org/CreativeWork\">\\n<meta itemprop=\"name headline\" content=\"উদ্বীক্ষণ\" />\\n<meta itemprop=\"author\" content=\"সুকান্ত ভট্টাচার্য\" />\\n<meta itemprop=\"datePublished\" content=\"2012-09-12T14:15:33Z\" />\\n<meta itemprop=\"genre\" content=\"Poem\" />\\n<meta itemprop=\"position\" content=\"21\" />\\n<meta itemprop=\"url\" content=\"https://www.bangla-kobita.com/sukanta/udbikkhon/\" />\\n</span>\\n<div class=\"row\">\\n<div class=\"col-sm-12\">\\n<a title=\"উদ্বীক্ষণ\" href=\"/sukanta/udbikkhon/\">উদ্বীক্ষণ</a>\\n</div>\\n</div>\\n</td>\\n<td class=\"text-right\">০</td>\\n</tr>\\n<tr class=\"\">\\n<td class=\"hidden-xs\">\\n</td>\\n<td>\\n<span itemprop=\"itemListElement\" itemscope itemtype=\"http://schema.org/CreativeWork\">\\n<meta itemprop=\"name headline\" content=\"উদ্যোগ\" />\\n<meta itemprop=\"author\" content=\"সুকান্ত ভট্টাচার্য\" />\\n<meta itemprop=\"datePublished\" content=\"2018-02-18T10:28:46Z\" />\\n<meta itemprop=\"genre\" content=\"Poem\" />\\n<meta itemprop=\"position\" content=\"22\" />\\n<meta itemprop=\"url\" content=\"https://www.bangla-kobita.com/sukanta/udyog/\" />\\n</span>\\n<div class=\"row\">\\n<div class=\"col-sm-12\">\\n<a title=\"উদ্যোগ\" href=\"/sukanta/udyog/\">উদ্যোগ</a>\\n</div>\\n</div>\\n</td>\\n<td class=\"text-right\">০</td>\\n</tr>\\n<tr class=\"\">\\n<td class=\"hidden-xs\">\\n</td>\\n<td>\\n<span itemprop=\"itemListElement\" itemscope itemtype=\"http://schema.org/CreativeWork\">\\n<meta itemprop=\"name headline\" content=\"এই নবান্নে\" />\\n<meta itemprop=\"author\" content=\"সুকান্ত ভট্টাচার্য\" />\\n<meta itemprop=\"datePublished\" content=\"2016-05-09T15:22:04Z\" />\\n<meta itemprop=\"genre\" content=\"Poem\" />\\n<meta itemprop=\"position\" content=\"23\" />\\n<meta itemprop=\"url\" content=\"https://www.bangla-kobita.com/sukanta/post20160509031843/\" />\\n</span>\\n<div class=\"row\">\\n<div class=\"col-sm-12\">\\n<a title=\"এই নবান্নে\" href=\"/sukanta/post20160509031843/\">এই নবান্নে</a>\\n</div>\\n</div>\\n</td>\\n<td class=\"text-right\">০</td>\\n</tr>\\n<tr class=\"\">\\n<td class=\"hidden-xs\">\\n</td>\\n<td>\\n<span itemprop=\"itemListElement\" itemscope itemtype=\"http://schema.org/CreativeWork\">\\n<meta itemprop=\"name headline\" content=\"এক যে ছিল\" />\\n<meta itemprop=\"author\" content=\"সুকান্ত ভট্টাচার্য\" />\\n<meta itemprop=\"datePublished\" content=\"2018-02-18T10:12:33Z\" />\\n<meta itemprop=\"genre\" content=\"Poem\" />\\n<meta itemprop=\"position\" content=\"24\" />\\n<meta itemprop=\"url\" content=\"https://www.bangla-kobita.com/sukanta/ek-je-chilo/\" />\\n</span>\\n<div class=\"row\">\\n<div class=\"col-sm-12\">\\n<a title=\"এক যে ছিল\" href=\"/sukanta/ek-je-chilo/\">এক যে ছিল</a>\\n</div>\\n</div>\\n</td>\\n<td class=\"text-right\">১</td>\\n</tr>\\n<tr class=\"\">\\n<td class=\"hidden-xs\">\\n<img src=\"/images/play-icon.png\" alt=\"আবৃত্তি\" />\\n</td>\\n<td>\\n<span itemprop=\"itemListElement\" itemscope itemtype=\"http://schema.org/CreativeWork\">\\n<meta itemprop=\"name headline\" content=\"একটি মোরগের কাহিনী\" />\\n<meta itemprop=\"author\" content=\"সুকান্ত ভট্টাচার্য\" />\\n<meta itemprop=\"datePublished\" content=\"2012-11-21T11:01:29Z\" />\\n<meta itemprop=\"genre\" content=\"Poem\" />\\n<meta itemprop=\"position\" content=\"25\" />\\n<meta itemprop=\"url\" content=\"https://www.bangla-kobita.com/sukanta/ekti-moroger-kahini/\" />\\n</span>\\n<div class=\"row\">\\n<div class=\"col-sm-12\">\\n<a title=\"একটি মোরগের কাহিনী\" href=\"/sukanta/ekti-moroger-kahini/\">একটি মোরগের কাহিনী</a>\\n</div>\\n</div>\\n</td>\\n<td class=\"text-right\">৩৪</td>\\n</tr>\\n<tr class=\"\">\\n<td class=\"hidden-xs\">\\n</td>\\n<td>\\n<span itemprop=\"itemListElement\" itemscope itemtype=\"http://schema.org/CreativeWork\">\\n<meta itemprop=\"name headline\" content=\"একুশে নভেম্বরঃ ১৯৪৬\" />\\n <meta itemprop=\"author\" content=\"সুকান্ত ভট্টাচার্য\" />\\n<meta itemprop=\"datePublished\" content=\"2012-09-12T14:12:46Z\" />\\n<meta itemprop=\"genre\" content=\"Poem\" />\\n<meta itemprop=\"position\" content=\"26\" />\\n<meta itemprop=\"url\" content=\"https://www.bangla-kobita.com/sukanta/ekushe-november-1946/\" />\\n</span>\\n<div class=\"row\">\\n<div class=\"col-sm-12\">\\n<a title=\"একুশে নভেম্বরঃ ১৯৪৬\" href=\"/sukanta/ekushe-november-1946/\">একুশে নভেম্বরঃ ১৯৪৬</a>\\n</div>\\n</div>\\n</td>\\n<td class=\"text-right\">৩</td>\\n</tr>\\n<tr class=\"\">\\n<td class=\"hidden-xs\">\\n</td>\\n<td>\\n<span itemprop=\"itemListElement\" itemscope itemtype=\"http://schema.org/CreativeWork\">\\n<meta itemprop=\"name headline\" content=\"ঐতিহাসিক\" />\\n<meta itemprop=\"author\" content=\"সুকান্ত ভট্টাচার্য\" />\\n<meta itemprop=\"datePublished\" content=\"2013-06-24T13:29:57Z\" />\\n<meta itemprop=\"genre\" content=\"Poem\" />\\n<meta itemprop=\"position\" content=\"27\" />\\n<meta itemprop=\"url\" content=\"https://www.bangla-kobita.com/sukanta/oitihashik/\" />\\n</span>\\n<div class=\"row\">\\n<div class=\"col-sm-12\">\\n<a title=\"ঐতিহাসিক\" href=\"/sukanta/oitihashik/\">ঐতিহাসিক</a>\\n</div>\\n</div>\\n</td>\\n<td class=\"text-right\">৩</td>\\n</tr>\\n<tr class=\"\">\\n<td class=\"hidden-xs\">\\n</td>\\n<td>\\n<span itemprop=\"itemListElement\" itemscope itemtype=\"http://schema.org/CreativeWork\">\\n<meta itemprop=\"name headline\" content=\"কনভয়\" />\\n<meta itemprop=\"author\" content=\"সুকান্ত ভট্টাচার্য\" />\\n<meta itemprop=\"datePublished\" content=\"2016-05-09T15:34:59Z\" />\\n<meta itemprop=\"genre\" content=\"Poem\" />\\n<meta itemprop=\"position\" content=\"28\" />\\n<meta itemprop=\"url\" content=\"https://www.bangla-kobita.com/sukanta/post20160509033427/\" />\\n</span>\\n<div class=\"row\">\\n<div class=\"col-sm-12\">\\n<a title=\"কনভয়\" href=\"/sukanta/post20160509033427/\">কনভয়</a>\\n</div>\\n</div>\\n</td>\\n<td class=\"text-right\">০</td>\\n</tr>\\n<tr class=\"\">\\n<td class=\"hidden-xs\">\\n</td>\\n<td>\\n<span itemprop=\"itemListElement\" itemscope itemtype=\"http://schema.org/CreativeWork\">\\n<meta itemprop=\"name headline\" content=\"কবিতার খসড়া\" />\\n<meta itemprop=\"author\" content=\"সুকান্ত ভট্টাচার্য\" />\\n<meta itemprop=\"datePublished\" content=\"2012-09-12T14:13:45Z\" />\\n<meta itemprop=\"genre\" content=\"Poem\" />\\n<meta itemprop=\"position\" content=\"29\" />\\n<meta itemprop=\"url\" content=\"https://www.bangla-kobita.com/sukanta/kobitar-khoshra/\" />\\n</span>\\n<div class=\"row\">\\n<div class=\"col-sm-12\">\\n<a title=\"কবিতার খসড়া\" href=\"/sukanta/kobitar-khoshra/\">কবিতার খসড়া</a>\\n</div>\\n</div>\\n</td>\\n<td class=\"text-right\">১</td>\\n</tr>\\n<tr class=\"\">\\n<td class=\"hidden-xs\">\\n</td>\\n<td>\\n<span itemprop=\"itemListElement\" itemscope itemtype=\"http://schema.org/CreativeWork\">\\n<meta itemprop=\"name headline\" content=\"কবে\" />\\n<meta itemprop=\"author\" content=\"সুকান্ত ভট্টাচার্য\" />\\n<meta itemprop=\"datePublished\" content=\"2012-11-20T10:47:29Z\" />\\n<meta itemprop=\"genre\" content=\"Poem\" />\\n<meta itemprop=\"position\" content=\"30\" />\\n<meta itemprop=\"url\" content=\"https://www.bangla-kobita.com/sukanta/kobe/\" />\\n</span>\\n<div class=\"row\">\\n<div class=\"col-sm-12\">\\n<a title=\"কবে\" href=\"/sukanta/kobe/\">কবে</a>\\n</div>\\n</div>\\n</td>\\n<td class=\"text-right\">১</td>\\n</tr>\\n<tr class=\"\">\\n<td class=\"hidden-xs\">\\n</td>\\n<td>\\n<span itemprop=\"itemListElement\" itemscope itemtype=\"http://schema.org/CreativeWork\">\\n<meta itemprop=\"name headline\" content=\"কলম\" />\\n<meta itemprop=\"author\" content=\"সুকান্ত ভট্টাচার্য\" />\\n<meta itemprop=\"datePublished\" content=\"2012-11-21T11:03:14Z\" />\\n<meta itemprop=\"genre\" content=\"Poem\" />\\n<meta itemprop=\"position\" content=\"31\" />\\n<meta itemprop=\"url\" content=\"https://www.bangla-kobita.com/sukanta/kolom/\" />\\n</span>\\n<div class=\"row\">\\n<div class=\"col-sm-12\">\\n<a title=\"কলম\" href=\"/sukanta/kolom/\">কলম</a>\\n</div>\\n</div>\\n</td>\\n<td class=\"text-right\">১৪</td>\\n</tr>\\n<tr class=\"\">\\n<td class=\"hidden-xs\">\\n</td>\\n<td>\\n<span itemprop=\"itemListElement\" itemscope itemtype=\"http://schema.org/CreativeWork\">\\n<meta itemprop=\"name headline\" content=\"কাশ্মীর\" />\\n<meta itemprop=\"author\" content=\"সুকান্ত ভট্টাচার্য\" />\\n<meta itemprop=\"datePublished\" content=\"2016-05-10T12:21:28Z\" />\\n<meta itemprop=\"genre\" content=\"Poem\" />\\n<meta itemprop=\"position\" content=\"32\" />\\n<meta itemprop=\"url\" content=\"https://www.bangla-kobita.com/sukanta/post20160510122029/\" />\\n</span>\\n<div class=\"row\">\\n<div class=\"col-sm-12\">\\n<a title=\"কাশ্মীর\" href=\"/sukanta/post20160510122029/\">কাশ্মীর</a>\\n</div>\\n</div>\\n</td>\\n<td class=\"text-right\">১</td>\\n</tr>\\n<tr class=\"\">\\n<td class=\"hidden-xs\">\\n</td>\\n<td>\\n<span itemprop=\"itemListElement\" itemscope itemtype=\"http://schema.org/CreativeWork\">\\n<meta itemprop=\"name headline\" content=\"কৃষকের গান\" />\\n<meta itemprop=\"author\" content=\"সুকান্ত ভট্টাচার্য\" />\\n<meta itemprop=\"datePublished\" content=\"2016-05-09T15:30:07Z\" />\\n<meta itemprop=\"genre\" content=\"Poem\" />\\n<meta itemprop=\"position\" content=\"33\" />\\n<meta itemprop=\"url\" content=\"https://www.bangla-kobita.com/sukanta/post20160509032943/\" />\\n</span>\\n<div class=\"row\">\\n<div class=\"col-sm-12\">\\n<a title=\"কৃষকের গান\" href=\"/sukanta/post20160509032943/\">কৃষকের গান</a>\\n</div>\\n</div>\\n</td>\\n<td class=\"text-right\">১</td>\\n</tr>\\n<tr class=\"\">\\n<td class=\"hidden-xs\">\\n</td>\\n<td>\\n<span itemprop=\"itemListElement\" itemscope itemtype=\"http://schema.org/CreativeWork\">\\n<meta itemprop=\"name headline\" content=\"খবর\" />\\n<meta itemprop=\"author\" content=\"সুকান্ত ভট্টাচার্য\" />\\n<meta itemprop=\"datePublished\" content=\"2012-11-21T10:58:03Z\" />\\n<meta itemprop=\"genre\" content=\"Poem\" />\\n<meta itemprop=\"position\" content=\"34\" />\\n<meta itemprop=\"url\" content=\"https://www.bangla-kobita.com/sukanta/khobor/\" />\\n</span>\\n<div class=\"row\">\\n<div class=\"col-sm-12\">\\n<a title=\"খবর\" href=\"/sukanta/khobor/\">খবর</a>\\n</div>\\n</div>\\n</td>\\n<td class=\"text-right\">২</td>\\n</tr>\\n<tr class=\"\">\\n<td class=\"hidden-xs\">\\n</td>\\n<td>\\n<span itemprop=\"itemListElement\" itemscope itemtype=\"http://schema.org/CreativeWork\">\\n<meta itemprop=\"name headline\" content=\"খাদ্য সমস্যার সমাধান\" />\\n<meta itemprop=\"author\" content=\"সুকান্ত ভট্টাচার্য\" />\\n<meta itemprop=\"datePublished\" content=\"2018-02-18T10:13:20Z\" />\\n<meta itemprop=\"genre\" content=\"Poem\" />\\n<meta itemprop=\"position\" content=\"35\" />\\n<meta itemprop=\"url\" content=\"https://www.bangla-kobita.com/sukanta/khadyo-somosyar-somadhan/\" />\\n</span>\\n<div class=\"row\">\\n<div class=\"col-sm-12\">\\n<a title=\"খাদ্য সমস্যার সমাধান\" href=\"/sukanta/khadyo-somosyar-somadhan/\">খাদ্য সমস্যার সমাধান</a>\\n</div>\\n</div>\\n</td>\\n<td class=\"text-right\">০</td>\\n</tr>\\n<tr class=\"\">\\n<td class=\"hidden-xs\">\\n</td>\\n<td>\\n<span itemprop=\"itemListElement\" itemscope itemtype=\"http://schema.org/CreativeWork\">\\n<meta itemprop=\"name headline\" content=\"গান\" />\\n<meta itemprop=\"author\" content=\"সুকান্ত ভট্টাচার্য\" />\\n<meta itemprop=\"datePublished\" content=\"2021-07-01T02:45:01Z\" />\\n<meta itemprop=\"genre\" content=\"Poem\" />\\n<meta itemprop=\"position\" content=\"36\" />\\n<meta itemprop=\"url\" content=\"https://www.bangla-kobita.com/sukanta/gaan/\" />\\n</span>\\n<div class=\"row\">\\n<div class=\"col-sm-12\">\\n<a title=\"গান\" href=\"/sukanta/gaan/\">গান</a>\\n</div>\\n</div>\\n</td>\\n<td class=\"text-right\">০</td>\\n</tr>\\n<tr class=\"\">\\n<td class=\"hidden-xs\">\\n</td>\\n<td>\\n<span itemprop=\"itemListElement\" itemscope itemtype=\"http://schema.org/CreativeWork\">\\n<meta itemprop=\"name headline\" content=\"গীতিগুচ্ছ-১\" />\\n<meta itemprop=\"author\" content=\"সুকান্ত ভট্টাচার্য\" />\\n<meta itemprop=\"datePublished\" content=\"2021-07-01T15:41:21Z\" />\\n<meta itemprop=\"genre\" content=\"Poem\" />\\n<meta itemprop=\"position\" content=\"37\" />\\n<meta itemprop=\"url\" content=\"https://www.bangla-kobita.com/sukanta/gitiguchcho/\" />\\n</span>\\n<div class=\"row\">\\n<div class=\"col-sm-12\">\\n<a title=\"গীতিগুচ্ছ-১\" href=\"/sukanta/gitiguchcho/\">গীতিগুচ্ছ-১</a>\\n</div>\\n</div>\\n</td>\\n<td class=\"text-right\">০</td>\\n</tr>\\n<tr class=\"\">\\n<td class=\"hidden-xs\">\\n</td>\\n<td>\\n<span itemprop=\"itemListElement\" itemscope itemtype=\"http://schema.org/CreativeWork\">\\n<meta itemprop=\"name headline\" content=\"গীতিগুচ্ছ-২\" />\\n<meta itemprop=\"author\" content=\"সুকান্ত ভট্টাচার্য\" />\\n<meta itemprop=\"datePublished\" content=\"2021-07-02T10:26:50Z\" />\\n<meta itemprop=\"genre\" content=\"Poem\" />\\n<meta itemprop=\"position\" content=\"38\" />\\n<meta itemprop=\"url\" content=\"https://www.bangla-kobita.com/sukanta/gitiguchcho-two/\" />\\n</span>\\n<div class=\"row\">\\n<div class=\"col-sm-12\">\\n<a title=\"গীতিগুচ্ছ-২\" href=\"/sukanta/gitiguchcho-two/\">গীতিগুচ্ছ-২</a>\\n</div>\\n</div>\\n</td>\\n<td class=\"text-right\">০</td>\\n</tr>\\n<tr class=\"\">\\n<td class=\"hidden-xs\">\\n</td>\\n<td>\\n<span itemprop=\"itemListElement\" itemscope itemtype=\"http://schema.org/CreativeWork\">\\n<meta itemprop=\"name headline\" content=\"গীতিগুচ্ছ-৩\" />\\n<meta itemprop=\"author\" content=\"সুকান্ত ভট্টাচার্য\" />\\n<meta itemprop=\"datePublished\" content=\"2021-07-02T13:26:05Z\" />\\n<meta itemprop=\"genre\" content=\"Poem\" />\\n<meta itemprop=\"position\" content=\"39\" />\\n<meta itemprop=\"url\" content=\"https://www.bangla-kobita.com/sukanta/gitiguchcho-tree/\" />\\n</span>\\n<div class=\"row\">\\n<div class=\"col-sm-12\">\\n<a title=\"গীতিগুচ্ছ-৩\" href=\"/sukanta/gitiguchcho-tree/\">গীতিগুচ্ছ-৩</a>\\n</div>\\n</div>\\n</td>\\n<td class=\"text-right\">০</td>\\n</tr>\\n<tr class=\"\">\\n<td class=\"hidden-xs\">\\n</td>\\n<td>\\n<span itemprop=\"itemListElement\" itemscope itemtype=\"http://schema.org/CreativeWork\">\\n<meta itemprop=\"name headline\" content=\"গোপন খবর\" />\\n<meta itemprop=\"author\" content=\"সুকান্ত ভট্টাচার্য\" />\\n<meta itemprop=\"datePublished\" content=\"2018-02-18T10:14:01Z\" />\\n<meta itemprop=\"genre\" content=\"Poem\" />\\n<meta itemprop=\"position\" content=\"40\" />\\n<meta itemprop=\"url\" content=\"https://www.bangla-kobita.com/sukanta/gopon-khobor/\" />\\n</span>\\n<div class=\"row\">\\n<div class=\"col-sm-12\">\\n<a title=\"গোপন খবর\" href=\"/sukanta/gopon-khobor/\">গোপন খবর</a>\\n</div>\\n</div>\\n</td>\\n<td class=\"text-right\">০</td>\\n</tr>\\n<tr class=\"\">\\n<td class=\"hidden-xs\">\\n</td>\\n<td>\\n<span itemprop=\"itemListElement\" itemscope itemtype=\"http://schema.org/CreativeWork\">\\n<meta itemprop=\"name headline\" content=\"ঘুমভাঙার গান\" />\\n<meta itemprop=\"author\" content=\"সুকান্ত ভট্টাচার্য\" />\\n<meta itemprop=\"datePublished\" content=\"2018-02-18T10:29:36Z\" />\\n<meta itemprop=\"genre\" content=\"Poem\" />\\n<meta itemprop=\"position\" content=\"41\" />\\n<meta itemprop=\"url\" content=\"https://www.bangla-kobita.com/sukanta/ghumvangar-gan/\" />\\n</span>\\n<div class=\"row\">\\n<div class=\"col-sm-12\">\\n<a title=\"ঘুমভাঙার গান\" href=\"/sukanta/ghumvangar-gan/\">ঘুমভাঙার গান</a>\\n</div>\\n</div>\\n</td>\\n<td class=\"text-right\">০</td>\\n</tr>\\n<tr class=\"\">\\n<td class=\"hidden-xs\">\\n</td>\\n<td>\\n<span itemprop=\"itemListElement\" itemscope itemtype=\"http://schema.org/CreativeWork\">\\n<meta itemprop=\"name headline\" content=\"চট্টগ্রামঃ ১৯৪৩\" />\\n<meta itemprop=\"author\" content=\"সুকান্ত ভট্টাচার্য\" />\\n<meta itemprop=\"datePublished\" content=\"2016-05-09T16:00:08Z\" />\\n<meta itemprop=\"genre\" content=\"Poem\" />\\n<meta itemprop=\"position\" content=\"42\" />\\n<meta itemprop=\"url\" content=\"https://www.bangla-kobita.com/sukanta/post20160509035904/\" />\\n</span>\\n<div class=\"row\">\\n<div class=\"col-sm-12\">\\n<a title=\"চট্টগ্রামঃ ১৯৪৩\" href=\"/sukanta/post20160509035904/\">চট্টগ্রামঃ ১৯৪৩</a>\\n</div>\\n</div>\\n</td>\\n<td class=\"text-right\">১</td>\\n</tr>\\n<tr class=\"\">\\n<td class=\"hidden-xs\">\\n</td>\\n<td>\\n<span itemprop=\"itemListElement\" itemscope itemtype=\"http://schema.org/CreativeWork\">\\n<meta itemprop=\"name headline\" content=\"চরমপত্র\" />\\n<meta itemprop=\"author\" content=\"সুকান্ত ভট্টাচার্য\" />\\n<meta itemprop=\"datePublished\" content=\"2018-02-18T09:11:56Z\" />\\n<meta itemprop=\"genre\" content=\"Poem\" />\\n<meta itemprop=\"position\" content=\"43\" />\\n<meta itemprop=\"url\" content=\"https://www.bangla-kobita.com/sukanta/chorompotro/\" />\\n</span>\\n<div class=\"row\">\\n<div class=\"col-sm-12\">\\n<a title=\"চরমপত্র\" href=\"/sukanta/chorompotro/\">চরমপত্র</a>\\n</div>\\n</div>\\n</td>\\n<td class=\"text-right\">০</td>\\n</tr>\\n<tr class=\"\">\\n<td class=\"hidden-xs\">\\n</td>\\n<td>\\n<span itemprop=\"itemListElement\" itemscope itemtype=\"http://schema.org/CreativeWork\">\\n<meta itemprop=\"name headline\" content=\"চারাগাছ\" />\\n<meta itemprop=\"author\" content=\"সুকান্ত ভট্টাচার্য\" />\\n<meta itemprop=\"datePublished\" content=\"2012-11-21T10:57:17Z\" />\\n<meta itemprop=\"genre\" content=\"Poem\" />\\n<meta itemprop=\"position\" content=\"44\" />\\n<meta itemprop=\"url\" content=\"https://www.bangla-kobita.com/sukanta/charagachh/\" />\\n</span>\\n<div class=\"row\">\\n<div class=\"col-sm-12\">\\n<a title=\"চারাগাছ\" href=\"/sukanta/charagachh/\">চারাগাছ</a>\\n</div>\\n</div>\\n</td>\\n<td class=\"text-right\">৩</td>\\n</tr>\\n<tr class=\"\">\\n<td class=\"hidden-xs\">\\n</td>\\n<td>\\n<span itemprop=\"itemListElement\" itemscope itemtype=\"http://schema.org/CreativeWork\">\\n<meta itemprop=\"name headline\" content=\"চিরদিনের\" />\\n<meta itemprop=\"author\" content=\"সুকান্ত ভট্টাচার্য\" />\\n<meta itemprop=\"datePublished\" content=\"2012-09-12T13:50:40Z\" />\\n<meta itemprop=\"genre\" content=\"Poem\" />\\n<meta itemprop=\"position\" content=\"45\" />\\n<meta itemprop=\"url\" content=\"https://www.bangla-kobita.com/sukanta/chirodiner/\" />\\n</span>\\n<div class=\"row\">\\n<div class=\"col-sm-12\">\\n<a title=\"চিরদিনের\" href=\"/sukanta/chirodiner/\">চিরদিনের</a>\\n</div>\\n</div>\\n</td>\\n<td class=\"text-right\">১</td>\\n</tr>\\n<tr class=\"\">\\n<td class=\"hidden-xs\">\\n<img src=\"/images/play-icon.png\" alt=\"আবৃত্তি\" />\\n</td>\\n<td>\\n<span itemprop=\"itemListElement\" itemscope itemtype=\"http://schema.org/CreativeWork\">\\n<meta itemprop=\"name headline\" content=\"চিল\" />\\n<meta itemprop=\"author\" content=\"সুকান্ত ভট্টাচার্য\" />\\n<meta itemprop=\"datePublished\" content=\"2016-05-10T03:10:03Z\" />\\n<meta itemprop=\"genre\" content=\"Poem\" />\\n<meta itemprop=\"position\" content=\"46\" />\\n<meta itemprop=\"url\" content=\"https://www.bangla-kobita.com/sukanta/post20160510030551/\" />\\n</span>\\n<div class=\"row\">\\n<div class=\"col-sm-12\">\\n<a title=\"চিল\" href=\"/sukanta/post20160510030551/\">চিল</a>\\n</div>\\n</div>\\n</td>\\n<td class=\"text-right\">৪</td>\\n</tr>\\n<tr class=\"\">\\n<td class=\"hidden-xs\">\\n</td>\\n<td>\\n<span itemprop=\"itemListElement\" itemscope itemtype=\"http://schema.org/CreativeWork\">\\n<meta itemprop=\"name headline\" content=\"চৈত্রদিনের গান\" />\\n<meta itemprop=\"author\" content=\"সুকান্ত ভট্টাচার্য\" />\\n<meta itemprop=\"datePublished\" content=\"2018-02-18T09:13:20Z\" />\\n<meta itemprop=\"genre\" content=\"Poem\" />\\n<meta itemprop=\"position\" content=\"47\" />\\n<meta itemprop=\"url\" content=\"https://www.bangla-kobita.com/sukanta/choitrodiner-gan/\" />\\n</span>\\n<div class=\"row\">\\n<div class=\"col-sm-12\">\\n<a title=\"চৈত্রদিনের গান\" href=\"/sukanta/choitrodiner-gan/\">চৈত্রদিনের গান</a>\\n</div>\\n</div>\\n</td>\\n<td class=\"text-right\">০</td>\\n</tr>\\n<tr class=\"\">\\n<td class=\"hidden-xs\">\\n<img src=\"/images/play-icon.png\" alt=\"আবৃত্তি\" />\\n</td>\\n<td>\\n<span itemprop=\"itemListElement\" itemscope itemtype=\"http://schema.org/CreativeWork\">\\n<meta itemprop=\"name headline\" content=\"ছাড়পত্র\" />\\n<meta itemprop=\"author\" content=\"সুকান্ত ভট্টাচার্য\" />\\n<meta itemprop=\"datePublished\" content=\"2012-11-20T10:58:51Z\" />\\n<meta itemprop=\"genre\" content=\"Poem\" />\\n<meta itemprop=\"position\" content=\"48\" />\\n<meta itemprop=\"url\" content=\"https://www.bangla-kobita.com/sukanta/charptrro/\" />\\n</span>\\n<div class=\"row\">\\n<div class=\"col-sm-12\">\\n<a title=\"ছাড়পত্র\" href=\"/sukanta/charptrro/\">ছাড়পত্র</a>\\n</div>\\n</div>\\n</td>\\n<td class=\"text-right\">১৬</td>\\n</tr>\\n<tr class=\"\">\\n<td class=\"hidden-xs\">\\n</td>\\n<td>\\n<span itemprop=\"itemListElement\" itemscope itemtype=\"http://schema.org/CreativeWork\">\\n<meta itemprop=\"name headline\" content=\"ছুরি\" />\\n<meta itemprop=\"author\" content=\"সুকান্ত ভট্টাচার্য\" />\\n<meta itemprop=\"datePublished\" content=\"2012-09-12T14:10:56Z\" />\\n<meta itemprop=\"genre\" content=\"Poem\" />\\n<meta itemprop=\"position\" content=\"49\" />\\n<meta itemprop=\"url\" content=\"https://www.bangla-kobita.com/sukanta/chhuri/\" />\\n</span>\\n<div class=\"row\">\\n<div class=\"col-sm-12\">\\n<a title=\"ছুরি\" href=\"/sukanta/chhuri/\">ছুরি</a>\\n</div>\\n</div>\\n</td>\\n<td class=\"text-right\">১</td>\\n</tr>\\n<tr class=\"\">\\n<td class=\"hidden-xs\">\\n</td>\\n<td>\\n<span itemprop=\"itemListElement\" itemscope itemtype=\"http://schema.org/CreativeWork\">\\n<meta itemprop=\"name headline\" content=\"জনতার মুখে ফোটে বিদ্যুৎবাণী\" />\\n<meta itemprop=\"author\" content=\"সুকান্ত ভট্টাচার্য\" />\\n<meta itemprop=\"datePublished\" content=\"2012-11-20T10:37:19Z\" />\\n<meta itemprop=\"genre\" content=\"Poem\" />\\n<meta itemprop=\"position\" content=\"50\" />\\n<meta itemprop=\"url\" content=\"https://www.bangla-kobita.com/sukanta/jonotar-mukhe-bidyutbani/\" />\\n</span>\\n<div class=\"row\">\\n<div class=\"col-sm-12\">\\n<a title=\"জনতার মুখে ফোটে বিদ্যুৎবাণী\" href=\"/sukanta/jonotar-mukhe-bidyutbani/\">জনতার মুখে ফোটে বিদ্যুৎবাণী</a>\\n</div>\\n</div>\\n</td>\\n<td class=\"text-right\">১</td>\\n</tr>\\n</table>\\n<div class=\"clearfix\">\\n<div class=\"pagination-container\"><ul class=\"pagination\"><li class=\"active\"><a>১</a></li><li><a href=\"/sukanta/?t=p&amp;pp=2\">২</a></li><li><a href=\"/sukanta/?t=p&amp;pp=3\">৩</a></li><li class=\"PagedList-skipToNext\"><a href=\"/sukanta/?t=p&amp;pp=2\" rel=\"next\">»</a></li></ul></div>\\n</div>\\n<br />\\n</div>\\n<div role=\"tabpanel\" class=\"tab-pane \" id=\"book\">\\n<p class=\"display-block text-left\">\\nএখানে সুকান্ত ভট্টাচার্য-এর ১টি কবিতার বই পাবেন।\\n</p>\\n<p class=\"display-none text-left\">\\nThere\\'s 1 poetry book(s) of সুকান্ত ভট্টাচার্য listed bellow.\\n</p>\\n<div class=\"clearfix\"></div>\\n<div class=\"list-options\">\\n<div class=\"clearfix\"></div>\\n</div>\\n<table class=\"book-list table table-striped table-responsive\">\\n<tr class=\"\">\\n<td class=\"cover\">\\n<a title=\"ছাড়পত্র\" href=\"/sukanta/books/chharpotro/\">\\n<img src=\"/images/book/0/b2890.png\" class=\"thumbnail\" title=\"ছাড়পত্র\" alt=\"ছাড়পত্র\" />\\n</a>\\n</td>\\n<td>\\n<b><a title=\"ছাড়পত্র\" href=\"/sukanta/books/chharpotro/\">ছাড়পত্র</a></b> <br /><br />\\n</td>\\n</tr>\\n</table>\\n<br />\\n</div>\\n</div>\\n</div>\\n</div>\\n<div class=\"ad-wide\">\\n<ins class=\"adsbygoogle\" style=\"display:block\" data-ad-client=\"ca-pub-9365325991113290\" data-ad-slot=\"2008035413\" data-ad-format=\"horizontal\"></ins>\\n<script>\\r\\n    (adsbygoogle = window.adsbygoogle || []).push({});\\r\\n</script>\\n</div>\\n</div>\\n<div class=\"col-md-4\">\\n<div id=\"shareButtons\" name=\"shareButtons\">\\n<div class=\"addthis\">\\n<div class=\"addthis_inline_share_toolbox addthis-content\"></div>\\n<div class=\"addthis-caption\">শেয়ার করুন: &nbsp;</div>\\n</div>\\n</div>\\n<div class=\"row\">\\n<div class=\"col-md-12\">\\n<div class=\"mid-col\">\\n<div class=\"search-box\">\\n<h4>সার্চ করুন</h4>\\n<div class=\"h-bar\"></div>\\n<form action=\"/search/\" method=\"post\">\\n<script type=\"text/javascript\">\\r\\n\\r\\n    var SearchBoxbKeyboard = new banglaKeyboard();\\r\\n\\r\\n\\r\\n    function SearchBoxKeyboardLayoutOptionClick() {\\r\\n        var field = document.getElementsByName(\\'SearchBoxKeyboardSelector\\');\\r\\n\\r\\n        for (var counter = 0; counter < field.length; counter++) {\\r\\n            if (field[counter].checked) {\\r\\n                EnglishKeyboard = false;\\r\\n                SearchBoxbKeyboard.KeyBoardLayout = counter + 1;\\r\\n\\r\\n                bnwSetCookie(\"bk.KeyboardLayout\", field[counter].value, 90, \"/\");\\r\\n\\r\\n                try\\r\\n                {\\r\\n                    var myFld = document.getElementById(\"q\");\\r\\n                    myFld.focus();\\r\\n                }\\r\\n                catch (err)\\r\\n                {\\r\\n\\r\\n                }\\r\\n               break;\\r\\n            }\\r\\n        }\\r\\n    } \\r\\n\\r\\n    function SearchBoxOnPageLoad()\\r\\n    {\\r\\n        SearchBoxbKeyboard.KeyBoardLayout = 2;\\r\\n    }\\r\\n\\r\\n\\r\\n    SearchBoxOnPageLoad();\\r\\n\\r\\n</script>\\n<span class=\"bangla-editor\">\\n<input id=\"SearchBoxrdKeyboard1\" onclick=\"SearchBoxKeyboardLayoutOptionClick()\" name=\"SearchBoxKeyboardSelector\" value=\"1\" type=\"radio\" /> <label for=\"SearchBoxrdKeyboard1\">ইংরেজি</label>\\n&nbsp; <input id=\"SearchBoxrdKeyboard2\" onclick=\"SearchBoxKeyboardLayoutOptionClick()\" name=\"SearchBoxKeyboardSelector\" value=\"2\" type=\"radio\" Checked=\"Checked\" /> <label for=\"SearchBoxrdKeyboard2\">অভ্র</label>\\n&nbsp; <input id=\"SearchBoxrdKeyboard3\" onclick=\"SearchBoxKeyboardLayoutOptionClick()\" name=\"SearchBoxKeyboardSelector\" value=\"3\" type=\"radio\" /> <label for=\"SearchBoxrdKeyboard3\">ইউনিজয়</label>\\n</span>\\n<input id=\"q\" onkeydown=\"return SearchBoxbKeyboard.KeyBoardDown(event);\" onkeypress=\"return SearchBoxbKeyboard.KeyBoardPress(event);\" name=\"q\" value=\"কবি বা কবিতার নামের অংশবিশেষ\" onfocus=\"if(this.value==\\'কবি বা কবিতার নামের অংশবিশেষ\\'){this.value=\\'\\';this.style.color = \\'#000\\';}\" onblur=\"if(this.value==\\'\\'){this.value=\\'কবি বা কবিতার নামের অংশবিশেষ\\';this.style.color=\\'#999\\';}\" type=\"text\" class=\"form-control\" />\\n<input id=\"s\" name=\"s\" class=\"btn btn-primary\" type=\"submit\" onclick=\"return validateInput()\" value=\"সার্চ!\" />\\n</form>\\n<div class=\"clearfix\"></div>\\n<p class=\"display-block\">\\nকবি কিংবা কবিতা খুঁজে বের করার জন্য উপরের সার্চ বক্সটি ব্যবহার করুন।\\n</p>\\n<p class=\"display-none\">\\nPlease use the above search box to find any poet or poems listed with us.\\n</p>\\n</div>\\n<script type=\"text/javascript\">\\r\\n    function validateInput() {\\r\\n        {\\r\\n            var q = document.getElementById(\"q\").value;\\r\\n\\r\\n            if (q.length == 0 || q == \"কবি বা কবিতার নামের অংশবিশেষ\") {\\r\\n                alert(\"কবি বা কবিতার নামের অংশবিশেষ দিয়ে সার্চ করুন।\");\\r\\n                return false;\\r\\n            }\\r\\n            else if (q.length < 3) {\\r\\n                alert(\"দয়া করে অর্থবোধক শব্দ দিয়ে সার্চ করুন।\");\\r\\n                return false;\\r\\n            }\\r\\n\\r\\n            document.location = \"/search/?q=\" + q;\\r\\n            return false;\\r\\n        }\\r\\n    }\\r\\n</script>\\n<div class=\"panel-box\">\\n<div class=\"ad-box\">\\n<ins class=\"adsbygoogle\" style=\"display:block\" data-ad-client=\"ca-pub-9365325991113290\" data-ad-slot=\"2389688108\" data-ad-format=\"rectangle,horizontal\"></ins>\\n<script>\\r\\n(adsbygoogle = window.adsbygoogle || []).push({});\\r\\n</script>\\n</div>\\n</div>\\n<div id=\"panelMenu\" name=\"panelMenu\">\\n</div>\\n<div class=\"partialContent\" data-url=\"/comment/panellistbyuser/8/15/\"></div>\\n<div class=\"panel-box\">\\n<div class=\"ad-tower\">\\n<ins class=\"adsbygoogle\" style=\"display:block\" data-ad-client=\"ca-pub-9365325991113290\" data-ad-slot=\"3650798884\" data-ad-format=\"vertical,horizontal,rectangle\"></ins>\\n<script>\\r\\n(adsbygoogle = window.adsbygoogle || []).push({});\\r\\n</script>\\n</div>\\n</div>\\n</div>\\n</div>\\n</div>\\n</div>\\n</div>\\n<footer>\\n<div class=\"row\">\\n<div class=\"col-md-7\">\\n<ul class=\"footer-menu\">\\n<li><a title=\"Contact us\" href=\"/contact/\">যোগাযোগ করুন</a></li>\\n<li><a title=\"Rules\" href=\"/info/rules/\">নিয়মাবলী</a></li>\\n<li><a title=\"Frequently Asked Questions\" href=\"/faq/\">তথ্যকেন্দ্র</a></li>\\n<li><a title=\"Notices\" href=\"/notice/\">বিজ্ঞপ্তি</a></li>\\n<li><a title=\"DMCA Complaint\" href=\"/dmca/\">কপিরাইট অভিযোগ</a></li>\\n</ul>\\n</div>\\n<div class=\"col-md-5 copyright\">\\n<span class=\"display-block\">\\n<span class=\"text-nowrap\">কপিরাইট &copy; ২০০৯ - ২০২১</span> <span class=\"text-nowrap\">www.bangla-kobita.com</span>\\n</span>\\n<span class=\"display-none\">\\n<span class=\"text-nowrap\">Copyright &copy; 2009 - 2021</span> <span class=\"text-nowrap\">www.bangla-kobita.com</span>\\n</span>\\n</div>\\n</div>\\n</footer>\\n</div>\\n<a title=\"Go back to top\" id=\"back-to-top\" href=\"#\" class=\"btn btn-primary btn-lg back-to-top\" role=\"button\"><span class=\"icon icon-chevron-up\"></span></a>\\n<script type=\"text/javascript\">\\r\\n            //Disable right-click on the page, except input or textarea\\r\\n            document.onmousedown = disableclick;\\r\\n            document.oncontextmenu = disablecontextmenu;\\r\\n\\r\\n            function disableclick(event) {\\r\\n                var srcName = event.target.tagName.toLowerCase();\\r\\n                if (event.button == 2) //Right click\\r\\n                {\\r\\n                    if (!(srcName == \"input\" || srcName == \"textarea\"))\\r\\n                        return false;\\r\\n                }\\r\\n            }\\r\\n\\r\\n            function disablecontextmenu(event) {\\r\\n                var srcName = event.target.tagName.toLowerCase();\\r\\n                if (!(srcName == \"input\" || srcName == \"textarea\"))\\r\\n                    return false;\\r\\n            }\\r\\n        </script>\\n<script src=\"/bundles/scripts?v=DLj2MetoSsXHK2i7f8nAm93GZ3HoaKbxyMyw0xbGVp01\"></script>\\n<script type=\"text/javascript\" src=\"//s7.addthis.com/js/300/addthis_widget.js#pubid=ra-4e4d18801a7b9371\"></script>\\n<script type=\"text/javascript\">\\r\\n                function searchspInList() {\\r\\n                    var qp = document.getElementById(\"searchQsp\").value;\\r\\n\\r\\n                    if (qp.length == 0 || qp == \"নির্দিষ্ট কবিতা খুঁজছেন?\") {\\r\\n                        alert(\"কবিতার নাম দিয়ে সার্চ করুন।\");\\r\\n                        return false;\\r\\n                    }\\r\\n                    else if (qp.length < 3) {\\r\\n                        alert(\"অর্থবহ নাম দিয়ে সার্চ করুন।\");\\r\\n                        return false;\\r\\n                    }\\r\\n\\r\\n                    document.location = \\'/sukanta/?t=p&qp=\\' + qp;\\r\\n                    return false;\\r\\n                }\\r\\n            </script>\\n<script type=\"text/javascript\">\\r\\n                function navigateURLsp() {\\r\\n\\r\\n                    var sortOptionssp = document.getElementById(\"sortOptionssp\");\\r\\n                    var selectedOptionsp = sortOptionssp.options[sortOptionssp.selectedIndex].value;\\r\\n                    var spURL = \"\";\\r\\n                    if (selectedOptionsp == \"n\") {\\r\\n                        spURL = \"/sukanta/?t=p\";\\r\\n                    } else if (selectedOptionsp == \"d\") {\\r\\n                        spURL = \"/sukanta/?t=p&s=d\";\\r\\n                    }\\r\\n                    window.location.href = spURL;\\r\\n                }\\r\\n            </script>\\n<script async src=\"//pagead2.googlesyndication.com/pagead/js/adsbygoogle.js\"></script>\\n<script>\\r\\n            (adsbygoogle = window.adsbygoogle || []).push({\\r\\n                google_ad_client: \"ca-pub-9365325991113290\",\\r\\n                enable_page_level_ads: true\\r\\n            });\\r\\n        </script>\\n<script async src=\"https://www.googletagmanager.com/gtag/js?id=UA-9964141-2\"></script>\\n<script>\\r\\n        window.dataLayer = window.dataLayer || [];\\r\\n        function gtag() { dataLayer.push(arguments); }\\r\\n        gtag(\\'js\\', new Date());\\r\\n\\r\\n        gtag(\\'config\\', \\'UA-9964141-2\\');\\r\\n    </script>\\n</body>\\n</html>\\n'"
      ]
     },
     "metadata": {},
     "execution_count": 118
    }
   ],
   "source": [
    "html_text_s = requests.get('https://www.bangla-kobita.com/' + 'sukanta/').text\n",
    "html_text_s"
   ]
  },
  {
   "cell_type": "code",
   "execution_count": 122,
   "metadata": {},
   "outputs": [],
   "source": [
    "def get_list_pages(root_url: str, poet_url: str) -> List[str]:\n",
    "    \"\"\"\n",
    "    inputs::\n",
    "    root_url: root_url of the website -> str\n",
    "    poet_url: root url of the poet, like rabindranath -> str\n",
    "\n",
    "    outputs::\n",
    "    a list of urls of pages containing links to multiple poems -> List(str)\n",
    "\n",
    "    returns::\n",
    "    page_urls: a list of urls of pages containing links to multiple poems -> List(str) \n",
    "    \"\"\"\n",
    "    html_text = requests.get(root_url + poet_url).text\n",
    "    # print(html_text)\n",
    "    soup = BeautifulSoup(html_text, 'lxml')\n",
    "    \n",
    "    pages = soup.find_all('ul', class_='pagination')\n",
    "    # print(pages)\n",
    "    \n",
    "    for page in pages:\n",
    "        a_s = page.find_all('a')\n",
    "        hrefs = [a.get('href') for a in a_s]\n",
    "\n",
    "    # print(hrefs)\n",
    "        \n",
    "    last_page_n = int(hrefs[-1].split('=')[-1])\n",
    "    # print(last_page_n)\n",
    "    page_urls = [root_url + poet_url + '?t=p&pp=' + str(i) for i in range(1, last_page_n+2)]\n",
    "    # print(page_urls)\n",
    "\n",
    "    return page_urls"
   ]
  },
  {
   "cell_type": "code",
   "execution_count": 127,
   "metadata": {},
   "outputs": [
    {
     "output_type": "execute_result",
     "data": {
      "text/plain": [
       "['https://www.bangla-kobita.com/rabindranath/?t=p&pp=1',\n",
       " 'https://www.bangla-kobita.com/rabindranath/?t=p&pp=2',\n",
       " 'https://www.bangla-kobita.com/rabindranath/?t=p&pp=3',\n",
       " 'https://www.bangla-kobita.com/rabindranath/?t=p&pp=4',\n",
       " 'https://www.bangla-kobita.com/rabindranath/?t=p&pp=5',\n",
       " 'https://www.bangla-kobita.com/rabindranath/?t=p&pp=6',\n",
       " 'https://www.bangla-kobita.com/rabindranath/?t=p&pp=7',\n",
       " 'https://www.bangla-kobita.com/rabindranath/?t=p&pp=8',\n",
       " 'https://www.bangla-kobita.com/rabindranath/?t=p&pp=9',\n",
       " 'https://www.bangla-kobita.com/rabindranath/?t=p&pp=10',\n",
       " 'https://www.bangla-kobita.com/rabindranath/?t=p&pp=11',\n",
       " 'https://www.bangla-kobita.com/rabindranath/?t=p&pp=12',\n",
       " 'https://www.bangla-kobita.com/rabindranath/?t=p&pp=13',\n",
       " 'https://www.bangla-kobita.com/rabindranath/?t=p&pp=14',\n",
       " 'https://www.bangla-kobita.com/rabindranath/?t=p&pp=15',\n",
       " 'https://www.bangla-kobita.com/rabindranath/?t=p&pp=16',\n",
       " 'https://www.bangla-kobita.com/rabindranath/?t=p&pp=17',\n",
       " 'https://www.bangla-kobita.com/rabindranath/?t=p&pp=18',\n",
       " 'https://www.bangla-kobita.com/rabindranath/?t=p&pp=19',\n",
       " 'https://www.bangla-kobita.com/rabindranath/?t=p&pp=20',\n",
       " 'https://www.bangla-kobita.com/rabindranath/?t=p&pp=21',\n",
       " 'https://www.bangla-kobita.com/rabindranath/?t=p&pp=22',\n",
       " 'https://www.bangla-kobita.com/rabindranath/?t=p&pp=23',\n",
       " 'https://www.bangla-kobita.com/rabindranath/?t=p&pp=24',\n",
       " 'https://www.bangla-kobita.com/rabindranath/?t=p&pp=25',\n",
       " 'https://www.bangla-kobita.com/rabindranath/?t=p&pp=26',\n",
       " 'https://www.bangla-kobita.com/rabindranath/?t=p&pp=27',\n",
       " 'https://www.bangla-kobita.com/rabindranath/?t=p&pp=28',\n",
       " 'https://www.bangla-kobita.com/rabindranath/?t=p&pp=29',\n",
       " 'https://www.bangla-kobita.com/rabindranath/?t=p&pp=30']"
      ]
     },
     "metadata": {},
     "execution_count": 127
    }
   ],
   "source": [
    "get_list_pages(root_url='https://www.bangla-kobita.com/', poet_url='rabindranath/')"
   ]
  },
  {
   "cell_type": "code",
   "execution_count": 125,
   "metadata": {},
   "outputs": [
    {
     "output_type": "execute_result",
     "data": {
      "text/plain": [
       "<Response [500]>"
      ]
     },
     "metadata": {},
     "execution_count": 125
    }
   ],
   "source": [
    "requests.get('https://www.bangla-kobita.com/sukanta/?t=p&pp=0')"
   ]
  },
  {
   "cell_type": "code",
   "execution_count": null,
   "metadata": {},
   "outputs": [],
   "source": []
  }
 ]
}